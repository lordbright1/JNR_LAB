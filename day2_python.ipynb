{
 "cells": [
  {
   "cell_type": "markdown",
   "id": "7ecb42a5",
   "metadata": {},
   "source": [
    "DAY1"
   ]
  },
  {
   "cell_type": "markdown",
   "id": "fd6b7d35",
   "metadata": {},
   "source": [
    " COMMENTS AND HEADING \n",
    " =\n",
    " Learning how to comment our codes\n"
   ]
  },
  {
   "cell_type": "code",
   "execution_count": 15,
   "id": "75fc2e18",
   "metadata": {},
   "outputs": [
    {
     "data": {
      "text/plain": [
       "6"
      ]
     },
     "execution_count": 15,
     "metadata": {},
     "output_type": "execute_result"
    }
   ],
   "source": [
    "4+2"
   ]
  },
  {
   "cell_type": "code",
   "execution_count": 2,
   "id": "38bce0e6",
   "metadata": {},
   "outputs": [
    {
     "name": "stdout",
     "output_type": "stream",
     "text": [
      "BEE\n"
     ]
    }
   ],
   "source": [
    "print('BEE')"
   ]
  },
  {
   "cell_type": "code",
   "execution_count": 1,
   "id": "e4da6ce7",
   "metadata": {},
   "outputs": [
    {
     "name": "stdout",
     "output_type": "stream",
     "text": [
      "ELL\n"
     ]
    }
   ],
   "source": [
    "print('ELL')"
   ]
  },
  {
   "cell_type": "code",
   "execution_count": null,
   "id": "8f4d19c2",
   "metadata": {},
   "outputs": [],
   "source": []
  },
  {
   "cell_type": "code",
   "execution_count": 4,
   "id": "4fa95cf9",
   "metadata": {},
   "outputs": [],
   "source": [
    "#Right"
   ]
  },
  {
   "cell_type": "code",
   "execution_count": 5,
   "id": "62da3ff7",
   "metadata": {},
   "outputs": [
    {
     "data": {
      "text/plain": [
       "'EEH'"
      ]
     },
     "execution_count": 5,
     "metadata": {},
     "output_type": "execute_result"
    }
   ],
   "source": [
    "'''EEH''' # we use the triple code to extract multiple lines"
   ]
  },
  {
   "cell_type": "code",
   "execution_count": 7,
   "id": "61dd9d80",
   "metadata": {},
   "outputs": [
    {
     "data": {
      "text/plain": [
       "6"
      ]
     },
     "execution_count": 7,
     "metadata": {},
     "output_type": "execute_result"
    }
   ],
   "source": [
    "#COMMENTING\n",
    "2*3 #'''6+3'''"
   ]
  },
  {
   "cell_type": "code",
   "execution_count": null,
   "id": "db473d2d",
   "metadata": {},
   "outputs": [],
   "source": []
  },
  {
   "cell_type": "markdown",
   "id": "ddb5042f",
   "metadata": {},
   "source": [
    "DATA TYPES\n",
    "=\n"
   ]
  },
  {
   "cell_type": "code",
   "execution_count": 8,
   "id": "346d710c",
   "metadata": {},
   "outputs": [
    {
     "data": {
      "text/plain": [
       "int"
      ]
     },
     "execution_count": 8,
     "metadata": {},
     "output_type": "execute_result"
    }
   ],
   "source": [
    "type(10)"
   ]
  },
  {
   "cell_type": "code",
   "execution_count": 10,
   "id": "aa84fbaa",
   "metadata": {},
   "outputs": [
    {
     "data": {
      "text/plain": [
       "float"
      ]
     },
     "execution_count": 10,
     "metadata": {},
     "output_type": "execute_result"
    }
   ],
   "source": [
    "type(15.72)"
   ]
  },
  {
   "cell_type": "code",
   "execution_count": 11,
   "id": "2ccb75e9",
   "metadata": {},
   "outputs": [
    {
     "data": {
      "text/plain": [
       "str"
      ]
     },
     "execution_count": 11,
     "metadata": {},
     "output_type": "execute_result"
    }
   ],
   "source": [
    "type('BEE') #every text should be ina quoted mark"
   ]
  },
  {
   "cell_type": "code",
   "execution_count": 12,
   "id": "f27b8449",
   "metadata": {},
   "outputs": [
    {
     "data": {
      "text/plain": [
       "list"
      ]
     },
     "execution_count": 12,
     "metadata": {},
     "output_type": "execute_result"
    }
   ],
   "source": [
    "type([1,2,3,4,5,6,7,8])"
   ]
  },
  {
   "cell_type": "code",
   "execution_count": 13,
   "id": "04ae0511",
   "metadata": {},
   "outputs": [
    {
     "data": {
      "text/plain": [
       "set"
      ]
     },
     "execution_count": 13,
     "metadata": {},
     "output_type": "execute_result"
    }
   ],
   "source": [
    "type({2,3,4,5})"
   ]
  },
  {
   "cell_type": "code",
   "execution_count": 14,
   "id": "38fe54f4",
   "metadata": {},
   "outputs": [
    {
     "data": {
      "text/plain": [
       "tuple"
      ]
     },
     "execution_count": 14,
     "metadata": {},
     "output_type": "execute_result"
    }
   ],
   "source": [
    "type((2,3,4,5,6))"
   ]
  },
  {
   "cell_type": "markdown",
   "id": "ad9649d7",
   "metadata": {},
   "source": [
    "Variable Assignment\n",
    "=\n",
    "Python is case sensitive"
   ]
  },
  {
   "cell_type": "code",
   "execution_count": 15,
   "id": "e3a44bbc",
   "metadata": {},
   "outputs": [],
   "source": [
    "J=21"
   ]
  },
  {
   "cell_type": "code",
   "execution_count": 16,
   "id": "29bdbdc5",
   "metadata": {},
   "outputs": [],
   "source": [
    "E=25"
   ]
  },
  {
   "cell_type": "code",
   "execution_count": 17,
   "id": "c89b4f2d",
   "metadata": {},
   "outputs": [],
   "source": [
    "zz=J+E"
   ]
  },
  {
   "cell_type": "code",
   "execution_count": 18,
   "id": "7390d277",
   "metadata": {},
   "outputs": [
    {
     "data": {
      "text/plain": [
       "46"
      ]
     },
     "execution_count": 18,
     "metadata": {},
     "output_type": "execute_result"
    }
   ],
   "source": [
    "zz"
   ]
  },
  {
   "cell_type": "code",
   "execution_count": 19,
   "id": "44481ce6",
   "metadata": {},
   "outputs": [],
   "source": [
    "a=70\n"
   ]
  },
  {
   "cell_type": "code",
   "execution_count": 20,
   "id": "bddd86cb",
   "metadata": {},
   "outputs": [],
   "source": [
    "x=30\n"
   ]
  },
  {
   "cell_type": "code",
   "execution_count": 21,
   "id": "27b767f6",
   "metadata": {},
   "outputs": [
    {
     "data": {
      "text/plain": [
       "10000"
      ]
     },
     "execution_count": 21,
     "metadata": {},
     "output_type": "execute_result"
    }
   ],
   "source": [
    "k=(a+x)**2\n",
    "k"
   ]
  },
  {
   "cell_type": "code",
   "execution_count": 22,
   "id": "6f6f8bbd",
   "metadata": {},
   "outputs": [
    {
     "data": {
      "text/plain": [
       "8"
      ]
     },
     "execution_count": 22,
     "metadata": {},
     "output_type": "execute_result"
    }
   ],
   "source": [
    "s=3\n",
    "d=5\n",
    "w=s+d\n",
    "w"
   ]
  },
  {
   "cell_type": "code",
   "execution_count": 23,
   "id": "11ef9ec6",
   "metadata": {},
   "outputs": [
    {
     "data": {
      "text/plain": [
       "10000"
      ]
     },
     "execution_count": 23,
     "metadata": {},
     "output_type": "execute_result"
    }
   ],
   "source": [
    "k"
   ]
  },
  {
   "cell_type": "code",
   "execution_count": 24,
   "id": "fc48ca54",
   "metadata": {},
   "outputs": [
    {
     "data": {
      "text/plain": [
       "10000"
      ]
     },
     "execution_count": 24,
     "metadata": {},
     "output_type": "execute_result"
    }
   ],
   "source": [
    "k"
   ]
  },
  {
   "cell_type": "code",
   "execution_count": 25,
   "id": "8b1c00de",
   "metadata": {},
   "outputs": [
    {
     "data": {
      "text/plain": [
       "7"
      ]
     },
     "execution_count": 25,
     "metadata": {},
     "output_type": "execute_result"
    }
   ],
   "source": [
    "s=5\n",
    "d=2\n",
    "w=s+d\n",
    "w"
   ]
  },
  {
   "cell_type": "markdown",
   "id": "15347a53",
   "metadata": {},
   "source": [
    "XHSHHSHSHH"
   ]
  },
  {
   "cell_type": "code",
   "execution_count": 26,
   "id": "7837b1e2",
   "metadata": {},
   "outputs": [
    {
     "name": "stdout",
     "output_type": "stream",
     "text": [
      "My name is Janna \n",
      "I am from Kasoa\n"
     ]
    }
   ],
   "source": [
    "print('My name is Janna \\nI am from Kasoa')"
   ]
  },
  {
   "cell_type": "code",
   "execution_count": null,
   "id": "a9fb510e",
   "metadata": {},
   "outputs": [],
   "source": []
  },
  {
   "cell_type": "code",
   "execution_count": null,
   "id": "35690344",
   "metadata": {},
   "outputs": [],
   "source": []
  },
  {
   "cell_type": "code",
   "execution_count": 27,
   "id": "e12dd770",
   "metadata": {},
   "outputs": [
    {
     "name": "stdout",
     "output_type": "stream",
     "text": [
      "Question 1 is A \n",
      "Question 2 is B \n",
      "Question 3 is C\n"
     ]
    }
   ],
   "source": [
    "print(\"Question 1 is A \\nQuestion 2 is B \\nQuestion 3 is C\")"
   ]
  },
  {
   "cell_type": "code",
   "execution_count": 28,
   "id": "3c470d47",
   "metadata": {},
   "outputs": [
    {
     "name": "stdout",
     "output_type": "stream",
     "text": [
      "My name is Eric and my coworker is Jannat. \n",
      "We come from Kasoa, the great City of all times\n"
     ]
    }
   ],
   "source": [
    "print('My name is Eric and my coworker is Jannat. \\nWe come from Kasoa, the great City of all times')"
   ]
  },
  {
   "cell_type": "code",
   "execution_count": 29,
   "id": "b1054aa7",
   "metadata": {},
   "outputs": [
    {
     "name": "stdout",
     "output_type": "stream",
     "text": [
      "70 , 5 , 7 , , 21 , 25 , 46 , 10000\n"
     ]
    }
   ],
   "source": [
    "print(a,',',s,',',w,',',',',J,',',E,',',zz,',',k)\n"
   ]
  },
  {
   "cell_type": "code",
   "execution_count": 30,
   "id": "df85a35a",
   "metadata": {},
   "outputs": [],
   "source": [
    "Course =\"Meteorology and Climate Science.\"\n"
   ]
  },
  {
   "cell_type": "code",
   "execution_count": 31,
   "id": "dea2cd31",
   "metadata": {},
   "outputs": [
    {
     "data": {
      "text/plain": [
       "32"
      ]
     },
     "execution_count": 31,
     "metadata": {},
     "output_type": "execute_result"
    }
   ],
   "source": [
    "len(Course)#Python starts indexing from 0"
   ]
  },
  {
   "cell_type": "code",
   "execution_count": 32,
   "id": "92d0b6a8",
   "metadata": {},
   "outputs": [
    {
     "data": {
      "text/plain": [
       "'Met'"
      ]
     },
     "execution_count": 32,
     "metadata": {},
     "output_type": "execute_result"
    }
   ],
   "source": [
    "Course[0:3]#subsetting a range."
   ]
  },
  {
   "cell_type": "code",
   "execution_count": 33,
   "id": "4fe25c94",
   "metadata": {},
   "outputs": [
    {
     "data": {
      "text/plain": [
       "'oooyadCiaeSine'"
      ]
     },
     "execution_count": 33,
     "metadata": {},
     "output_type": "execute_result"
    }
   ],
   "source": [
    "Course[4::2]#it'll start from "
   ]
  },
  {
   "cell_type": "code",
   "execution_count": 34,
   "id": "c0670032",
   "metadata": {},
   "outputs": [
    {
     "data": {
      "text/plain": [
       "'ERIC'"
      ]
     },
     "execution_count": 34,
     "metadata": {},
     "output_type": "execute_result"
    }
   ],
   "source": [
    "m=\"E\"+\"R\"+\"I\"+\"C\"\n",
    "m"
   ]
  },
  {
   "cell_type": "code",
   "execution_count": 35,
   "id": "0c50601e",
   "metadata": {},
   "outputs": [
    {
     "name": "stdout",
     "output_type": "stream",
     "text": [
      "E I\n"
     ]
    }
   ],
   "source": [
    "print(m[0],m[2])"
   ]
  },
  {
   "cell_type": "code",
   "execution_count": 36,
   "id": "fd046e9f",
   "metadata": {},
   "outputs": [
    {
     "data": {
      "text/plain": [
       "'eric'"
      ]
     },
     "execution_count": 36,
     "metadata": {},
     "output_type": "execute_result"
    }
   ],
   "source": [
    "m.lower()\n"
   ]
  },
  {
   "cell_type": "code",
   "execution_count": 37,
   "id": "d4c9c388",
   "metadata": {},
   "outputs": [],
   "source": [
    "v='dorkutso'"
   ]
  },
  {
   "cell_type": "code",
   "execution_count": 38,
   "id": "f1242212",
   "metadata": {},
   "outputs": [
    {
     "data": {
      "text/plain": [
       "'DORKUTSO'"
      ]
     },
     "execution_count": 38,
     "metadata": {},
     "output_type": "execute_result"
    }
   ],
   "source": [
    "v.upper()"
   ]
  },
  {
   "cell_type": "code",
   "execution_count": null,
   "id": "d1c4d0be",
   "metadata": {},
   "outputs": [],
   "source": []
  },
  {
   "cell_type": "code",
   "execution_count": null,
   "id": "e740fe6c",
   "metadata": {},
   "outputs": [],
   "source": []
  },
  {
   "cell_type": "code",
   "execution_count": 40,
   "id": "7a56ad0f",
   "metadata": {},
   "outputs": [
    {
     "name": "stdout",
     "output_type": "stream",
     "text": [
      "3Y3 SERE\n",
      "ANIGYE3 \n",
      "NHYIRA\n"
     ]
    }
   ],
   "source": [
    "print('3Y3 SERE\\nANIGYE3 \\nNHYIRA')"
   ]
  },
  {
   "cell_type": "markdown",
   "id": "ffdd31b1",
   "metadata": {},
   "source": [
    "CONCATENATION\n",
    "=\n",
    "addn, numbers etc. together"
   ]
  },
  {
   "cell_type": "code",
   "execution_count": 41,
   "id": "f2ebce58",
   "metadata": {},
   "outputs": [
    {
     "name": "stdout",
     "output_type": "stream",
     "text": [
      "Meteorology and Climate Science \n"
     ]
    }
   ],
   "source": [
    "a='Meteorology '\n",
    "b='and '\n",
    "c='Climate '\n",
    "d='Science '\n",
    "print(a+b+c+d)"
   ]
  },
  {
   "cell_type": "code",
   "execution_count": 42,
   "id": "93caa3e8",
   "metadata": {},
   "outputs": [
    {
     "name": "stdout",
     "output_type": "stream",
     "text": [
      "Meteorology and Climate   Science \n"
     ]
    }
   ],
   "source": [
    "a='Meteorology '\n",
    "b='and '\n",
    "c='Climate '\n",
    "d='Science '\n",
    "print(a+b+c,'',d)"
   ]
  },
  {
   "cell_type": "code",
   "execution_count": 43,
   "id": "cd0610ec",
   "metadata": {},
   "outputs": [
    {
     "name": "stdout",
     "output_type": "stream",
     "text": [
      "VOTE FOR RHODA 2023 \n",
      "VOTE FOR RHODA 2023 \n",
      "VOTE FOR RHODA 2023 \n",
      "VOTE FOR RHODA 2023 \n",
      "VOTE FOR RHODA 2023 \n",
      "VOTE FOR RHODA 2023 \n",
      "VOTE FOR RHODA 2023 \n",
      "VOTE FOR RHODA 2023 \n",
      "VOTE FOR RHODA 2023 \n",
      "VOTE FOR RHODA 2023 \n",
      "VOTE FOR RHODA 2023 \n",
      "VOTE FOR RHODA 2023 \n",
      "VOTE FOR RHODA 2023 \n",
      "VOTE FOR RHODA 2023 \n",
      "VOTE FOR RHODA 2023 \n",
      "VOTE FOR RHODA 2023 \n",
      "VOTE FOR RHODA 2023 \n",
      "VOTE FOR RHODA 2023 \n",
      "VOTE FOR RHODA 2023 \n",
      "VOTE FOR RHODA 2023 \n",
      "VOTE FOR RHODA 2023 \n",
      "\n"
     ]
    }
   ],
   "source": [
    "print('VOTE FOR RHODA 2023 \\n'*21)"
   ]
  },
  {
   "cell_type": "markdown",
   "id": "2e9c1243",
   "metadata": {},
   "source": [
    "FORMATING OF STRING\n",
    "="
   ]
  },
  {
   "cell_type": "code",
   "execution_count": 45,
   "id": "48d9d8df",
   "metadata": {},
   "outputs": [],
   "source": [
    "q='Jannat said the economy is hard'"
   ]
  },
  {
   "cell_type": "code",
   "execution_count": 46,
   "id": "573247b7",
   "metadata": {},
   "outputs": [
    {
     "data": {
      "text/plain": [
       "'jannat said the economy is hard'"
      ]
     },
     "execution_count": 46,
     "metadata": {},
     "output_type": "execute_result"
    }
   ],
   "source": [
    "b=q.lower()\n",
    "b"
   ]
  },
  {
   "cell_type": "code",
   "execution_count": 47,
   "id": "2fa6d5a5",
   "metadata": {},
   "outputs": [],
   "source": [
    "c=b.upper()"
   ]
  },
  {
   "cell_type": "code",
   "execution_count": 48,
   "id": "9ee0ef7a",
   "metadata": {},
   "outputs": [
    {
     "data": {
      "text/plain": [
       "'JANNAT SAID THE ECONOMY IS HARD'"
      ]
     },
     "execution_count": 48,
     "metadata": {},
     "output_type": "execute_result"
    }
   ],
   "source": [
    "c"
   ]
  },
  {
   "cell_type": "code",
   "execution_count": 49,
   "id": "f31c01ab",
   "metadata": {},
   "outputs": [
    {
     "data": {
      "text/plain": [
       "'jannat said the economy is hard'"
      ]
     },
     "execution_count": 49,
     "metadata": {},
     "output_type": "execute_result"
    }
   ],
   "source": [
    "b.capitalize()\n",
    "\n",
    "b"
   ]
  },
  {
   "cell_type": "code",
   "execution_count": 55,
   "id": "199b96e0",
   "metadata": {},
   "outputs": [
    {
     "data": {
      "text/plain": [
       "['Jannat', 'said', 'the', 'economy', 'is', 'hard']"
      ]
     },
     "execution_count": 55,
     "metadata": {},
     "output_type": "execute_result"
    }
   ],
   "source": [
    "q.split()"
   ]
  },
  {
   "cell_type": "code",
   "execution_count": 56,
   "id": "3b7baca8",
   "metadata": {},
   "outputs": [
    {
     "data": {
      "text/plain": [
       "'Jannat said the economy is hard'"
      ]
     },
     "execution_count": 56,
     "metadata": {},
     "output_type": "execute_result"
    }
   ],
   "source": [
    "q.replace('Desmond', 'Eric')"
   ]
  },
  {
   "cell_type": "code",
   "execution_count": 57,
   "id": "72f8cdd7",
   "metadata": {},
   "outputs": [
    {
     "data": {
      "text/plain": [
       "'Jannat said the economy is hard'"
      ]
     },
     "execution_count": 57,
     "metadata": {},
     "output_type": "execute_result"
    }
   ],
   "source": [
    "q.replace('Desmond said','Eric says')"
   ]
  },
  {
   "cell_type": "code",
   "execution_count": 58,
   "id": "40836095",
   "metadata": {},
   "outputs": [],
   "source": [
    "first='Welcome to the {year} {prog} organized by {organizers}'.format(year=2022, prog='Internship', organizers='Dep')"
   ]
  },
  {
   "cell_type": "code",
   "execution_count": 59,
   "id": "7195da0a",
   "metadata": {},
   "outputs": [
    {
     "data": {
      "text/plain": [
       "'Welcome to the 2022 Internship organized by Dep'"
      ]
     },
     "execution_count": 59,
     "metadata": {},
     "output_type": "execute_result"
    }
   ],
   "source": [
    "first"
   ]
  },
  {
   "cell_type": "code",
   "execution_count": 60,
   "id": "4aa1b26b",
   "metadata": {},
   "outputs": [],
   "source": [
    "Second='Welcome to the {} {} organized by {}'.format(2022,'Internship','Dep')"
   ]
  },
  {
   "cell_type": "code",
   "execution_count": 61,
   "id": "ccfe15ed",
   "metadata": {},
   "outputs": [
    {
     "data": {
      "text/plain": [
       "'Welcome to the 2022 Internship organized by Dep'"
      ]
     },
     "execution_count": 61,
     "metadata": {},
     "output_type": "execute_result"
    }
   ],
   "source": [
    "Second"
   ]
  },
  {
   "cell_type": "code",
   "execution_count": 62,
   "id": "7d400061",
   "metadata": {},
   "outputs": [
    {
     "data": {
      "text/plain": [
       "2"
      ]
     },
     "execution_count": 62,
     "metadata": {},
     "output_type": "execute_result"
    }
   ],
   "source": [
    "7//3 #floor (which gives the whole number of a decimal number)"
   ]
  },
  {
   "cell_type": "code",
   "execution_count": 63,
   "id": "fd58c86a",
   "metadata": {},
   "outputs": [
    {
     "data": {
      "text/plain": [
       "2"
      ]
     },
     "execution_count": 63,
     "metadata": {},
     "output_type": "execute_result"
    }
   ],
   "source": [
    "6%4 #Modulus: This gives the remainder"
   ]
  },
  {
   "cell_type": "code",
   "execution_count": 64,
   "id": "828c06ea",
   "metadata": {},
   "outputs": [
    {
     "data": {
      "text/plain": [
       "False"
      ]
     },
     "execution_count": 64,
     "metadata": {},
     "output_type": "execute_result"
    }
   ],
   "source": [
    "2>75"
   ]
  },
  {
   "cell_type": "code",
   "execution_count": 65,
   "id": "e4a8f2e8",
   "metadata": {},
   "outputs": [
    {
     "data": {
      "text/plain": [
       "bool"
      ]
     },
     "execution_count": 65,
     "metadata": {},
     "output_type": "execute_result"
    }
   ],
   "source": [
    "type(11.2 == 11.22)"
   ]
  },
  {
   "cell_type": "code",
   "execution_count": 66,
   "id": "f7a9cae0",
   "metadata": {},
   "outputs": [],
   "source": [
    "f=['Jannat','Eric']"
   ]
  },
  {
   "cell_type": "code",
   "execution_count": 67,
   "id": "dbe142ba",
   "metadata": {},
   "outputs": [],
   "source": [
    "l=f.append('Desmond')"
   ]
  },
  {
   "cell_type": "code",
   "execution_count": 68,
   "id": "40b116f4",
   "metadata": {},
   "outputs": [],
   "source": [
    "#fROZENSET\n"
   ]
  },
  {
   "cell_type": "markdown",
   "id": "4dcd91f5",
   "metadata": {},
   "source": [
    "DICTIONARY\n",
    "="
   ]
  },
  {
   "cell_type": "code",
   "execution_count": 70,
   "id": "288fb199",
   "metadata": {},
   "outputs": [],
   "source": [
    "a={\n",
    "    'Name':'Desmond ',\n",
    "    'Number':'0555971863',\n",
    "    'Age': '17',\n",
    "    'Sex':'Male',\n",
    "    'Wife':'Rhoda'\n",
    "}"
   ]
  },
  {
   "cell_type": "code",
   "execution_count": 71,
   "id": "06b3c35a",
   "metadata": {},
   "outputs": [
    {
     "data": {
      "text/plain": [
       "{'Name': 'Desmond ',\n",
       " 'Number': '0555971863',\n",
       " 'Age': '17',\n",
       " 'Sex': 'Male',\n",
       " 'Wife': 'Rhoda'}"
      ]
     },
     "execution_count": 71,
     "metadata": {},
     "output_type": "execute_result"
    }
   ],
   "source": [
    "a"
   ]
  },
  {
   "cell_type": "code",
   "execution_count": 72,
   "id": "5531e4d4",
   "metadata": {},
   "outputs": [
    {
     "data": {
      "text/plain": [
       "True"
      ]
     },
     "execution_count": 72,
     "metadata": {},
     "output_type": "execute_result"
    }
   ],
   "source": [
    "9!=3"
   ]
  },
  {
   "cell_type": "code",
   "execution_count": 73,
   "id": "2afa5ef7",
   "metadata": {},
   "outputs": [
    {
     "data": {
      "text/plain": [
       "True"
      ]
     },
     "execution_count": 73,
     "metadata": {},
     "output_type": "execute_result"
    }
   ],
   "source": [
    "2<=20"
   ]
  },
  {
   "cell_type": "code",
   "execution_count": 74,
   "id": "06a26483",
   "metadata": {},
   "outputs": [
    {
     "data": {
      "text/plain": [
       "False"
      ]
     },
     "execution_count": 74,
     "metadata": {},
     "output_type": "execute_result"
    }
   ],
   "source": [
    "2>=9"
   ]
  },
  {
   "cell_type": "code",
   "execution_count": 75,
   "id": "3d27791a",
   "metadata": {},
   "outputs": [
    {
     "data": {
      "text/plain": [
       "True"
      ]
     },
     "execution_count": 75,
     "metadata": {},
     "output_type": "execute_result"
    }
   ],
   "source": [
    "(6%4)==2"
   ]
  },
  {
   "cell_type": "markdown",
   "id": "692be789",
   "metadata": {},
   "source": [
    "LOGICAL OPERATIONS\n",
    "="
   ]
  },
  {
   "cell_type": "code",
   "execution_count": 76,
   "id": "0e99a414",
   "metadata": {},
   "outputs": [
    {
     "data": {
      "text/plain": [
       "False"
      ]
     },
     "execution_count": 76,
     "metadata": {},
     "output_type": "execute_result"
    }
   ],
   "source": [
    "(5<2)&(5>3)#when both statements are true\n",
    "#OR\n",
    "#NOT"
   ]
  },
  {
   "cell_type": "markdown",
   "id": "b415976d",
   "metadata": {},
   "source": [
    "ONE WAY DECISON\n",
    "="
   ]
  },
  {
   "cell_type": "code",
   "execution_count": 77,
   "id": "5bc9a2f7",
   "metadata": {},
   "outputs": [],
   "source": [
    "x=5"
   ]
  },
  {
   "cell_type": "code",
   "execution_count": 78,
   "id": "21a9b567",
   "metadata": {},
   "outputs": [
    {
     "name": "stdout",
     "output_type": "stream",
     "text": [
      "x equals 5\n"
     ]
    }
   ],
   "source": [
    "if x==5:\n",
    "    print('x equals 5')\n"
   ]
  },
  {
   "cell_type": "code",
   "execution_count": 79,
   "id": "4d2f2819",
   "metadata": {},
   "outputs": [
    {
     "name": "stdout",
     "output_type": "stream",
     "text": [
      "x is greater than four\n"
     ]
    }
   ],
   "source": [
    "if x>4:\n",
    "    print('x is greater than four')"
   ]
  },
  {
   "cell_type": "code",
   "execution_count": 80,
   "id": "5a514f1f",
   "metadata": {},
   "outputs": [
    {
     "name": "stdout",
     "output_type": "stream",
     "text": [
      "Desmond is tired\n"
     ]
    }
   ],
   "source": [
    "if x!=6:\n",
    "    print('Desmond is tired')"
   ]
  },
  {
   "cell_type": "markdown",
   "id": "bd6d47c5",
   "metadata": {},
   "source": [
    "Two Way Decisions\n",
    "="
   ]
  },
  {
   "cell_type": "code",
   "execution_count": 81,
   "id": "96d3db6d",
   "metadata": {},
   "outputs": [
    {
     "name": "stdout",
     "output_type": "stream",
     "text": [
      "Your age: \n"
     ]
    },
    {
     "data": {
      "text/plain": [
       "''"
      ]
     },
     "execution_count": 81,
     "metadata": {},
     "output_type": "execute_result"
    }
   ],
   "source": [
    "input('Your age: ')"
   ]
  },
  {
   "cell_type": "code",
   "execution_count": 82,
   "id": "2fcdbb3c",
   "metadata": {},
   "outputs": [
    {
     "name": "stdout",
     "output_type": "stream",
     "text": [
      "Please enter your fulname \n",
      "Please look for your partner\n"
     ]
    }
   ],
   "source": [
    "name= input('Please enter your fulname ')\n",
    "if name=='Jannat':\n",
    "    print('You are my partner')\n",
    "else:\n",
    "    print('Please look for your partner')"
   ]
  },
  {
   "cell_type": "code",
   "execution_count": 83,
   "id": "15f9268c",
   "metadata": {},
   "outputs": [
    {
     "name": "stdout",
     "output_type": "stream",
     "text": [
      "Please,place your order \n",
      "\n",
      "Oohs! sorry we have only jolof currently.\n"
     ]
    }
   ],
   "source": [
    "menu = input('Please,place your order ')\n",
    "print('')\n",
    "if menu == 'Jolof':\n",
    "    print(\"It'll be delivered soon please\")\n",
    "else:\n",
    "    print('Oohs! sorry we have only jolof currently.')"
   ]
  },
  {
   "cell_type": "markdown",
   "id": "dbaa147d",
   "metadata": {},
   "source": [
    "A NESTED IF STATEMENTS\n",
    "="
   ]
  },
  {
   "cell_type": "code",
   "execution_count": 84,
   "id": "1c5c93ef",
   "metadata": {},
   "outputs": [
    {
     "name": "stdout",
     "output_type": "stream",
     "text": [
      "Enter your grade \n"
     ]
    },
    {
     "ename": "ValueError",
     "evalue": "invalid literal for int() with base 10: ''",
     "output_type": "error",
     "traceback": [
      "\u001b[0;31m---------------------------------------------------------------------------\u001b[0m",
      "\u001b[0;31mValueError\u001b[0m                                Traceback (most recent call last)",
      "\u001b[0;32m/tmp/ipykernel_6194/2903756627.py\u001b[0m in \u001b[0;36m<module>\u001b[0;34m\u001b[0m\n\u001b[0;32m----> 1\u001b[0;31m \u001b[0mgrade\u001b[0m\u001b[0;34m=\u001b[0m \u001b[0mint\u001b[0m\u001b[0;34m(\u001b[0m\u001b[0minput\u001b[0m\u001b[0;34m(\u001b[0m\u001b[0;34m'Enter your grade '\u001b[0m\u001b[0;34m)\u001b[0m\u001b[0;34m)\u001b[0m\u001b[0;31m#100\u001b[0m\u001b[0;34m\u001b[0m\u001b[0;34m\u001b[0m\u001b[0m\n\u001b[0m\u001b[1;32m      2\u001b[0m \u001b[0mprint\u001b[0m\u001b[0;34m(\u001b[0m\u001b[0;34m''\u001b[0m\u001b[0;34m)\u001b[0m\u001b[0;34m\u001b[0m\u001b[0;34m\u001b[0m\u001b[0m\n\u001b[1;32m      3\u001b[0m \u001b[0;32mif\u001b[0m \u001b[0mgrade\u001b[0m\u001b[0;34m>\u001b[0m\u001b[0;36m60\u001b[0m\u001b[0;34m:\u001b[0m\u001b[0;34m\u001b[0m\u001b[0;34m\u001b[0m\u001b[0m\n\u001b[1;32m      4\u001b[0m     \u001b[0mprint\u001b[0m\u001b[0;34m(\u001b[0m\u001b[0;34m'\\tStudent scored a passing grade'\u001b[0m\u001b[0;34m)\u001b[0m\u001b[0;34m\u001b[0m\u001b[0;34m\u001b[0m\u001b[0m\n\u001b[1;32m      5\u001b[0m     \u001b[0;32mif\u001b[0m \u001b[0mgrade\u001b[0m \u001b[0;34m>=\u001b[0m\u001b[0;36m90\u001b[0m\u001b[0;34m:\u001b[0m\u001b[0;34m\u001b[0m\u001b[0;34m\u001b[0m\u001b[0m\n",
      "\u001b[0;31mValueError\u001b[0m: invalid literal for int() with base 10: ''"
     ]
    }
   ],
   "source": [
    "grade= int(input('Enter your grade '))#100\n",
    "print('')\n",
    "if grade>60:\n",
    "    print('\\tStudent scored a passing grade')\n",
    "    if grade >=90:\n",
    "        print('\\tPassed with A')\n",
    "        if grade >=96:\n",
    "            print('\\tPassed with A+')\n",
    "    "
   ]
  },
  {
   "cell_type": "code",
   "execution_count": 85,
   "id": "1f55153b",
   "metadata": {},
   "outputs": [
    {
     "name": "stdout",
     "output_type": "stream",
     "text": [
      "Please enter your grade \n"
     ]
    },
    {
     "ename": "ValueError",
     "evalue": "invalid literal for int() with base 10: ''",
     "output_type": "error",
     "traceback": [
      "\u001b[0;31m---------------------------------------------------------------------------\u001b[0m",
      "\u001b[0;31mValueError\u001b[0m                                Traceback (most recent call last)",
      "\u001b[0;32m/tmp/ipykernel_6194/2188595635.py\u001b[0m in \u001b[0;36m<module>\u001b[0;34m\u001b[0m\n\u001b[0;32m----> 1\u001b[0;31m \u001b[0mgrade\u001b[0m \u001b[0;34m=\u001b[0m\u001b[0mint\u001b[0m\u001b[0;34m(\u001b[0m\u001b[0minput\u001b[0m\u001b[0;34m(\u001b[0m\u001b[0;34m'Please enter your grade '\u001b[0m\u001b[0;34m)\u001b[0m\u001b[0;34m)\u001b[0m\u001b[0;34m\u001b[0m\u001b[0;34m\u001b[0m\u001b[0m\n\u001b[0m\u001b[1;32m      2\u001b[0m \u001b[0mprint\u001b[0m\u001b[0;34m(\u001b[0m\u001b[0;34m''\u001b[0m\u001b[0;34m)\u001b[0m\u001b[0;34m\u001b[0m\u001b[0;34m\u001b[0m\u001b[0m\n\u001b[1;32m      3\u001b[0m \u001b[0;32mif\u001b[0m \u001b[0mgrade\u001b[0m \u001b[0;34m>=\u001b[0m\u001b[0;36m70\u001b[0m \u001b[0;32mand\u001b[0m \u001b[0mgrade\u001b[0m \u001b[0;34m<=\u001b[0m\u001b[0;36m100\u001b[0m\u001b[0;34m:\u001b[0m\u001b[0;34m\u001b[0m\u001b[0;34m\u001b[0m\u001b[0m\n\u001b[1;32m      4\u001b[0m     \u001b[0mprint\u001b[0m\u001b[0;34m(\u001b[0m\u001b[0;34m'A'\u001b[0m\u001b[0;34m)\u001b[0m\u001b[0;34m\u001b[0m\u001b[0;34m\u001b[0m\u001b[0m\n\u001b[1;32m      5\u001b[0m \u001b[0;32melif\u001b[0m \u001b[0mgrade\u001b[0m \u001b[0;34m>=\u001b[0m\u001b[0;36m60\u001b[0m \u001b[0;32mand\u001b[0m \u001b[0mgrade\u001b[0m \u001b[0;34m<=\u001b[0m\u001b[0;36m69\u001b[0m\u001b[0;34m:\u001b[0m\u001b[0;34m\u001b[0m\u001b[0;34m\u001b[0m\u001b[0m\n",
      "\u001b[0;31mValueError\u001b[0m: invalid literal for int() with base 10: ''"
     ]
    }
   ],
   "source": [
    "grade =int(input('Please enter your grade '))\n",
    "print('')\n",
    "if grade >=70 and grade <=100:\n",
    "    print('A')\n",
    "elif grade >=60 and grade <=69:\n",
    "    print('B')\n",
    "elif grade >=50 and grade <=59:\n",
    "    print('C')\n",
    "elif grade>=40 and grade <=49:\n",
    "    print('D')\n",
    "else:\n",
    "    print('You have failed, come for your school fees')"
   ]
  },
  {
   "cell_type": "code",
   "execution_count": 92,
   "id": "9997f373",
   "metadata": {},
   "outputs": [],
   "source": [
    "#Assignment\n",
    "#C=5\n",
    "#while C<=80:\n",
    "    #K=273.16+C\n",
    "#K=273.16+x\n",
    "#while K<=80\n",
    "  #print(K,C)\n",
    "#c\n",
    "#range from 5 to 80\n",
    "#change from cel to kelvin"
   ]
  },
  {
   "cell_type": "code",
   "execution_count": 97,
   "id": "75f1f4bf",
   "metadata": {},
   "outputs": [
    {
     "name": "stdout",
     "output_type": "stream",
     "text": [
      "{'Name': 'Desmond ', 'Number': '0555971863', 'Age': '17', 'Sex': 'Male', 'Wife': 'Rhoda'}\n",
      "{'Name': 'Desmond ', 'Number': '0555971863', 'Age': '17', 'Sex': 'Male', 'Wife': 'Rhoda'}\n",
      "{'Name': 'Desmond ', 'Number': '0555971863', 'Age': '17', 'Sex': 'Male', 'Wife': 'Rhoda'}\n",
      "{'Name': 'Desmond ', 'Number': '0555971863', 'Age': '17', 'Sex': 'Male', 'Wife': 'Rhoda'}\n",
      "{'Name': 'Desmond ', 'Number': '0555971863', 'Age': '17', 'Sex': 'Male', 'Wife': 'Rhoda'}\n",
      "{'Name': 'Desmond ', 'Number': '0555971863', 'Age': '17', 'Sex': 'Male', 'Wife': 'Rhoda'}\n",
      "{'Name': 'Desmond ', 'Number': '0555971863', 'Age': '17', 'Sex': 'Male', 'Wife': 'Rhoda'}\n",
      "{'Name': 'Desmond ', 'Number': '0555971863', 'Age': '17', 'Sex': 'Male', 'Wife': 'Rhoda'}\n",
      "{'Name': 'Desmond ', 'Number': '0555971863', 'Age': '17', 'Sex': 'Male', 'Wife': 'Rhoda'}\n",
      "{'Name': 'Desmond ', 'Number': '0555971863', 'Age': '17', 'Sex': 'Male', 'Wife': 'Rhoda'}\n",
      "{'Name': 'Desmond ', 'Number': '0555971863', 'Age': '17', 'Sex': 'Male', 'Wife': 'Rhoda'}\n",
      "{'Name': 'Desmond ', 'Number': '0555971863', 'Age': '17', 'Sex': 'Male', 'Wife': 'Rhoda'}\n",
      "{'Name': 'Desmond ', 'Number': '0555971863', 'Age': '17', 'Sex': 'Male', 'Wife': 'Rhoda'}\n",
      "{'Name': 'Desmond ', 'Number': '0555971863', 'Age': '17', 'Sex': 'Male', 'Wife': 'Rhoda'}\n",
      "{'Name': 'Desmond ', 'Number': '0555971863', 'Age': '17', 'Sex': 'Male', 'Wife': 'Rhoda'}\n",
      "{'Name': 'Desmond ', 'Number': '0555971863', 'Age': '17', 'Sex': 'Male', 'Wife': 'Rhoda'}\n",
      "{'Name': 'Desmond ', 'Number': '0555971863', 'Age': '17', 'Sex': 'Male', 'Wife': 'Rhoda'}\n",
      "{'Name': 'Desmond ', 'Number': '0555971863', 'Age': '17', 'Sex': 'Male', 'Wife': 'Rhoda'}\n"
     ]
    }
   ],
   "source": [
    "#EXAMPLES WITH A STRINGS\n",
    "\n",
    "Language=\"PYTHON PROGRAMMING\"\n",
    "for l in Language:\n",
    "  print(a)"
   ]
  },
  {
   "cell_type": "code",
   "execution_count": null,
   "id": "238f31df",
   "metadata": {},
   "outputs": [],
   "source": [
    "#numpy\n",
    "#import numpy as np"
   ]
  },
  {
   "cell_type": "code",
   "execution_count": 8,
   "id": "0d25a123",
   "metadata": {},
   "outputs": [],
   "source": [
    "#creating a rande for the whole number of years\n",
    "#days=np.arrage(1,135)"
   ]
  },
  {
   "cell_type": "code",
   "execution_count": 39,
   "id": "59fa2070",
   "metadata": {},
   "outputs": [
    {
     "name": "stdout",
     "output_type": "stream",
     "text": [
      "1\n",
      "2\n",
      "3\n",
      "4\n",
      "5\n",
      "6\n",
      "7\n",
      "8\n",
      "9\n",
      "10\n",
      "11\n",
      "12\n",
      "13\n",
      "14\n",
      "15\n",
      "16\n",
      "17\n",
      "18\n",
      "19\n",
      "20\n",
      "21\n",
      "22\n",
      "23\n",
      "24\n",
      "25\n",
      "26\n",
      "27\n",
      "28\n",
      "29\n",
      "30\n",
      "31\n",
      "32\n",
      "33\n",
      "34\n",
      "35\n",
      "36\n",
      "37\n",
      "38\n",
      "39\n",
      "40\n",
      "41\n",
      "42\n",
      "43\n",
      "44\n",
      "45\n",
      "46\n",
      "47\n",
      "48\n",
      "49\n",
      "50\n",
      "51\n",
      "52\n",
      "53\n",
      "54\n",
      "55\n",
      "56\n",
      "57\n",
      "58\n",
      "59\n",
      "60\n",
      "61\n",
      "62\n",
      "63\n",
      "64\n",
      "65\n",
      "66\n",
      "67\n",
      "68\n",
      "69\n",
      "70\n",
      "71\n",
      "72\n",
      "73\n",
      "74\n",
      "75\n",
      "76\n",
      "77\n",
      "78\n",
      "79\n",
      "80\n",
      "81\n",
      "82\n",
      "83\n",
      "84\n",
      "85\n",
      "86\n",
      "87\n",
      "88\n",
      "89\n",
      "90\n",
      "91\n",
      "92\n",
      "93\n",
      "94\n",
      "95\n",
      "96\n",
      "97\n",
      "98\n",
      "99\n",
      "100\n",
      "101\n",
      "102\n",
      "103\n",
      "104\n",
      "105\n",
      "106\n",
      "107\n",
      "108\n",
      "109\n",
      "110\n",
      "111\n",
      "112\n",
      "113\n",
      "114\n",
      "115\n",
      "116\n",
      "117\n",
      "118\n",
      "119\n",
      "120\n",
      "121\n",
      "122\n",
      "123\n",
      "124\n",
      "125\n",
      "126\n",
      "127\n",
      "128\n",
      "129\n",
      "130\n",
      "131\n",
      "132\n",
      "133\n",
      "134\n",
      "135\n",
      "136\n",
      "137\n",
      "138\n",
      "139\n",
      "140\n",
      "141\n",
      "142\n",
      "143\n",
      "144\n",
      "145\n",
      "146\n",
      "147\n",
      "148\n",
      "149\n",
      "150\n",
      "151\n",
      "152\n",
      "153\n",
      "154\n",
      "155\n",
      "156\n",
      "157\n",
      "158\n",
      "159\n",
      "160\n",
      "161\n",
      "162\n",
      "163\n",
      "164\n",
      "165\n",
      "166\n",
      "167\n",
      "168\n",
      "169\n",
      "170\n",
      "171\n",
      "172\n",
      "173\n",
      "174\n",
      "175\n",
      "176\n",
      "177\n",
      "178\n",
      "179\n",
      "180\n",
      "181\n",
      "182\n",
      "183\n",
      "184\n",
      "185\n",
      "186\n",
      "187\n",
      "188\n",
      "189\n",
      "190\n",
      "191\n",
      "192\n",
      "193\n",
      "194\n",
      "195\n",
      "196\n",
      "197\n",
      "198\n",
      "199\n",
      "200\n",
      "201\n",
      "202\n",
      "203\n",
      "204\n",
      "205\n",
      "206\n",
      "207\n",
      "208\n",
      "209\n",
      "210\n",
      "211\n",
      "212\n",
      "213\n",
      "214\n",
      "215\n",
      "216\n",
      "217\n",
      "218\n",
      "219\n",
      "220\n",
      "221\n",
      "222\n",
      "223\n",
      "224\n",
      "225\n",
      "226\n",
      "227\n",
      "228\n",
      "229\n",
      "230\n",
      "231\n",
      "232\n",
      "233\n",
      "234\n",
      "235\n",
      "236\n",
      "237\n",
      "238\n",
      "239\n",
      "240\n",
      "241\n",
      "242\n",
      "243\n",
      "244\n",
      "245\n",
      "246\n",
      "247\n",
      "248\n",
      "249\n",
      "250\n",
      "251\n",
      "252\n",
      "253\n",
      "254\n",
      "255\n",
      "256\n",
      "257\n",
      "258\n",
      "259\n",
      "260\n",
      "261\n",
      "262\n",
      "263\n",
      "264\n",
      "265\n",
      "266\n",
      "267\n",
      "268\n",
      "269\n",
      "270\n",
      "271\n",
      "272\n",
      "273\n",
      "274\n",
      "275\n",
      "276\n",
      "277\n",
      "278\n",
      "279\n",
      "280\n",
      "281\n",
      "282\n",
      "283\n",
      "284\n",
      "285\n",
      "286\n",
      "287\n",
      "288\n",
      "289\n",
      "290\n",
      "291\n",
      "292\n",
      "293\n",
      "294\n",
      "295\n",
      "296\n",
      "297\n",
      "298\n",
      "299\n",
      "300\n",
      "301\n",
      "302\n",
      "303\n",
      "304\n",
      "305\n",
      "306\n",
      "307\n",
      "308\n",
      "309\n",
      "310\n",
      "311\n",
      "312\n",
      "313\n",
      "314\n",
      "315\n",
      "316\n",
      "317\n",
      "318\n",
      "319\n",
      "320\n",
      "321\n",
      "322\n",
      "323\n",
      "324\n",
      "325\n",
      "326\n",
      "327\n",
      "328\n",
      "329\n",
      "330\n",
      "331\n",
      "332\n",
      "333\n",
      "334\n",
      "335\n",
      "336\n",
      "337\n",
      "338\n",
      "339\n",
      "340\n",
      "341\n",
      "342\n",
      "343\n",
      "344\n",
      "345\n",
      "346\n",
      "347\n",
      "348\n",
      "349\n",
      "350\n",
      "351\n",
      "352\n",
      "353\n",
      "354\n",
      "355\n",
      "356\n",
      "357\n",
      "358\n",
      "359\n",
      "360\n",
      "361\n",
      "362\n",
      "363\n",
      "364\n"
     ]
    }
   ],
   "source": [
    "for x in range(1,365,1):\n",
    "    \n",
    "       \n",
    "    print(x)\n"
   ]
  },
  {
   "cell_type": "code",
   "execution_count": 17,
   "id": "874a7d61",
   "metadata": {},
   "outputs": [
    {
     "name": "stdout",
     "output_type": "stream",
     "text": [
      "5 * 1 = 5\n",
      "5 * 2 = 10\n",
      "5 * 3 = 15\n",
      "5 * 4 = 20\n",
      "5 * 5 = 25\n",
      "5 * 6 = 30\n",
      "5 * 7 = 35\n",
      "5 * 8 = 40\n",
      "5 * 9 = 45\n",
      "5 * 10 = 50\n"
     ]
    }
   ],
   "source": [
    "#NESTED LOOP\n",
    "A=[1,2,3,4,5,6,7,8,9,10]\n",
    "B=[5]\n",
    "for a in A:\n",
    "    for b in B:\n",
    "        \n",
    "        y=a*b\n",
    "        print(b,'*',a,'=',y)\n"
   ]
  },
  {
   "cell_type": "code",
   "execution_count": 24,
   "id": "4f73a2f8",
   "metadata": {},
   "outputs": [
    {
     "name": "stdout",
     "output_type": "stream",
     "text": [
      "3 + 2 + = 10\n",
      "3 + 2 + = 8\n",
      "5 + 2 + = 12\n",
      "5 + 2 + = 10\n",
      "3 + 5 + = 13\n",
      "3 + 5 + = 11\n",
      "5 + 5 + = 15\n",
      "5 + 5 + = 13\n"
     ]
    }
   ],
   "source": [
    "N=[2,5]\n",
    "M=[3,5]\n",
    "O=[5,3]\n",
    "\n",
    "for n in N:\n",
    "    for m in M:\n",
    "        for o in O:\n",
    "            \n",
    "            u = m+n+o\n",
    "            print(m,'+',n,'+','=',u)"
   ]
  },
  {
   "cell_type": "code",
   "execution_count": 36,
   "id": "ec857f88",
   "metadata": {},
   "outputs": [
    {
     "name": "stdout",
     "output_type": "stream",
     "text": [
      "Bright i have found you\n"
     ]
    }
   ],
   "source": [
    "#BREAK\n",
    "names=['John','Gideon','Elvis','grace','Bright']\n",
    "for name in names:\n",
    "    if name == 'Bright':\n",
    "        print(name,'i have found you')\n",
    "        break"
   ]
  },
  {
   "cell_type": "code",
   "execution_count": null,
   "id": "d5564792",
   "metadata": {},
   "outputs": [],
   "source": [
    "#break,while continue and pass\n",
    "\n",
    "#continue\n",
    "\n"
   ]
  }
 ],
 "metadata": {
  "kernelspec": {
   "display_name": "Python 3 (ipykernel)",
   "language": "python",
   "name": "python3"
  },
  "language_info": {
   "codemirror_mode": {
    "name": "ipython",
    "version": 3
   },
   "file_extension": ".py",
   "mimetype": "text/x-python",
   "name": "python",
   "nbconvert_exporter": "python",
   "pygments_lexer": "ipython3",
   "version": "3.9.7"
  }
 },
 "nbformat": 4,
 "nbformat_minor": 5
}
