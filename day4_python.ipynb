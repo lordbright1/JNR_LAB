{
 "cells": [
  {
   "cell_type": "markdown",
   "id": "7ecb42a5",
   "metadata": {},
   "source": [
    "DAY1"
   ]
  },
  {
   "cell_type": "markdown",
   "id": "fd6b7d35",
   "metadata": {},
   "source": [
    " COMMENTS AND HEADING \n",
    " =\n",
    " Learning how to comment our codes\n"
   ]
  },
  {
   "cell_type": "code",
   "execution_count": 15,
   "id": "75fc2e18",
   "metadata": {},
   "outputs": [
    {
     "data": {
      "text/plain": [
       "6"
      ]
     },
     "execution_count": 15,
     "metadata": {},
     "output_type": "execute_result"
    }
   ],
   "source": [
    "4+2"
   ]
  },
  {
   "cell_type": "code",
   "execution_count": 2,
   "id": "38bce0e6",
   "metadata": {},
   "outputs": [
    {
     "name": "stdout",
     "output_type": "stream",
     "text": [
      "BEE\n"
     ]
    }
   ],
   "source": [
    "print('BEE')"
   ]
  },
  {
   "cell_type": "code",
   "execution_count": 1,
   "id": "e4da6ce7",
   "metadata": {},
   "outputs": [
    {
     "name": "stdout",
     "output_type": "stream",
     "text": [
      "ELL\n"
     ]
    }
   ],
   "source": [
    "print('ELL')"
   ]
  },
  {
   "cell_type": "code",
   "execution_count": null,
   "id": "8f4d19c2",
   "metadata": {},
   "outputs": [],
   "source": []
  },
  {
   "cell_type": "code",
   "execution_count": 4,
   "id": "4fa95cf9",
   "metadata": {},
   "outputs": [],
   "source": [
    "#Right"
   ]
  },
  {
   "cell_type": "code",
   "execution_count": 5,
   "id": "62da3ff7",
   "metadata": {},
   "outputs": [
    {
     "data": {
      "text/plain": [
       "'EEH'"
      ]
     },
     "execution_count": 5,
     "metadata": {},
     "output_type": "execute_result"
    }
   ],
   "source": [
    "'''EEH''' # we use the triple code to extract multiple lines"
   ]
  },
  {
   "cell_type": "code",
   "execution_count": 7,
   "id": "61dd9d80",
   "metadata": {},
   "outputs": [
    {
     "data": {
      "text/plain": [
       "6"
      ]
     },
     "execution_count": 7,
     "metadata": {},
     "output_type": "execute_result"
    }
   ],
   "source": [
    "#COMMENTING\n",
    "2*3 #'''6+3'''"
   ]
  },
  {
   "cell_type": "code",
   "execution_count": null,
   "id": "db473d2d",
   "metadata": {},
   "outputs": [],
   "source": []
  },
  {
   "cell_type": "markdown",
   "id": "ddb5042f",
   "metadata": {},
   "source": [
    "DATA TYPES\n",
    "=\n"
   ]
  },
  {
   "cell_type": "code",
   "execution_count": 8,
   "id": "346d710c",
   "metadata": {},
   "outputs": [
    {
     "data": {
      "text/plain": [
       "int"
      ]
     },
     "execution_count": 8,
     "metadata": {},
     "output_type": "execute_result"
    }
   ],
   "source": [
    "type(10)"
   ]
  },
  {
   "cell_type": "code",
   "execution_count": 10,
   "id": "aa84fbaa",
   "metadata": {},
   "outputs": [
    {
     "data": {
      "text/plain": [
       "float"
      ]
     },
     "execution_count": 10,
     "metadata": {},
     "output_type": "execute_result"
    }
   ],
   "source": [
    "type(15.72)"
   ]
  },
  {
   "cell_type": "code",
   "execution_count": 11,
   "id": "2ccb75e9",
   "metadata": {},
   "outputs": [
    {
     "data": {
      "text/plain": [
       "str"
      ]
     },
     "execution_count": 11,
     "metadata": {},
     "output_type": "execute_result"
    }
   ],
   "source": [
    "type('BEE') #every text should be ina quoted mark"
   ]
  },
  {
   "cell_type": "code",
   "execution_count": 12,
   "id": "f27b8449",
   "metadata": {},
   "outputs": [
    {
     "data": {
      "text/plain": [
       "list"
      ]
     },
     "execution_count": 12,
     "metadata": {},
     "output_type": "execute_result"
    }
   ],
   "source": [
    "type([1,2,3,4,5,6,7,8])"
   ]
  },
  {
   "cell_type": "code",
   "execution_count": 13,
   "id": "04ae0511",
   "metadata": {},
   "outputs": [
    {
     "data": {
      "text/plain": [
       "set"
      ]
     },
     "execution_count": 13,
     "metadata": {},
     "output_type": "execute_result"
    }
   ],
   "source": [
    "type({2,3,4,5})"
   ]
  },
  {
   "cell_type": "code",
   "execution_count": 14,
   "id": "38fe54f4",
   "metadata": {},
   "outputs": [
    {
     "data": {
      "text/plain": [
       "tuple"
      ]
     },
     "execution_count": 14,
     "metadata": {},
     "output_type": "execute_result"
    }
   ],
   "source": [
    "type((2,3,4,5,6))"
   ]
  },
  {
   "cell_type": "markdown",
   "id": "ad9649d7",
   "metadata": {},
   "source": [
    "Variable Assignment\n",
    "=\n",
    "Python is case sensitive"
   ]
  },
  {
   "cell_type": "code",
   "execution_count": 15,
   "id": "e3a44bbc",
   "metadata": {},
   "outputs": [],
   "source": [
    "J=21"
   ]
  },
  {
   "cell_type": "code",
   "execution_count": 16,
   "id": "29bdbdc5",
   "metadata": {},
   "outputs": [],
   "source": [
    "E=25"
   ]
  },
  {
   "cell_type": "code",
   "execution_count": 17,
   "id": "c89b4f2d",
   "metadata": {},
   "outputs": [],
   "source": [
    "zz=J+E"
   ]
  },
  {
   "cell_type": "code",
   "execution_count": 18,
   "id": "7390d277",
   "metadata": {},
   "outputs": [
    {
     "data": {
      "text/plain": [
       "46"
      ]
     },
     "execution_count": 18,
     "metadata": {},
     "output_type": "execute_result"
    }
   ],
   "source": [
    "zz"
   ]
  },
  {
   "cell_type": "code",
   "execution_count": 19,
   "id": "44481ce6",
   "metadata": {},
   "outputs": [],
   "source": [
    "a=70\n"
   ]
  },
  {
   "cell_type": "code",
   "execution_count": 20,
   "id": "bddd86cb",
   "metadata": {},
   "outputs": [],
   "source": [
    "x=30\n"
   ]
  },
  {
   "cell_type": "code",
   "execution_count": 21,
   "id": "27b767f6",
   "metadata": {},
   "outputs": [
    {
     "data": {
      "text/plain": [
       "10000"
      ]
     },
     "execution_count": 21,
     "metadata": {},
     "output_type": "execute_result"
    }
   ],
   "source": [
    "k=(a+x)**2\n",
    "k"
   ]
  },
  {
   "cell_type": "code",
   "execution_count": 22,
   "id": "6f6f8bbd",
   "metadata": {},
   "outputs": [
    {
     "data": {
      "text/plain": [
       "8"
      ]
     },
     "execution_count": 22,
     "metadata": {},
     "output_type": "execute_result"
    }
   ],
   "source": [
    "s=3\n",
    "d=5\n",
    "w=s+d\n",
    "w"
   ]
  },
  {
   "cell_type": "code",
   "execution_count": 23,
   "id": "11ef9ec6",
   "metadata": {},
   "outputs": [
    {
     "data": {
      "text/plain": [
       "10000"
      ]
     },
     "execution_count": 23,
     "metadata": {},
     "output_type": "execute_result"
    }
   ],
   "source": [
    "k"
   ]
  },
  {
   "cell_type": "code",
   "execution_count": 24,
   "id": "fc48ca54",
   "metadata": {},
   "outputs": [
    {
     "data": {
      "text/plain": [
       "10000"
      ]
     },
     "execution_count": 24,
     "metadata": {},
     "output_type": "execute_result"
    }
   ],
   "source": [
    "k"
   ]
  },
  {
   "cell_type": "code",
   "execution_count": 25,
   "id": "8b1c00de",
   "metadata": {},
   "outputs": [
    {
     "data": {
      "text/plain": [
       "7"
      ]
     },
     "execution_count": 25,
     "metadata": {},
     "output_type": "execute_result"
    }
   ],
   "source": [
    "s=5\n",
    "d=2\n",
    "w=s+d\n",
    "w"
   ]
  },
  {
   "cell_type": "markdown",
   "id": "15347a53",
   "metadata": {},
   "source": [
    "XHSHHSHSHH"
   ]
  },
  {
   "cell_type": "code",
   "execution_count": 26,
   "id": "7837b1e2",
   "metadata": {},
   "outputs": [
    {
     "name": "stdout",
     "output_type": "stream",
     "text": [
      "My name is Janna \n",
      "I am from Kasoa\n"
     ]
    }
   ],
   "source": [
    "print('My name is Janna \\nI am from Kasoa')"
   ]
  },
  {
   "cell_type": "code",
   "execution_count": null,
   "id": "a9fb510e",
   "metadata": {},
   "outputs": [],
   "source": []
  },
  {
   "cell_type": "code",
   "execution_count": null,
   "id": "35690344",
   "metadata": {},
   "outputs": [],
   "source": []
  },
  {
   "cell_type": "code",
   "execution_count": 27,
   "id": "e12dd770",
   "metadata": {},
   "outputs": [
    {
     "name": "stdout",
     "output_type": "stream",
     "text": [
      "Question 1 is A \n",
      "Question 2 is B \n",
      "Question 3 is C\n"
     ]
    }
   ],
   "source": [
    "print(\"Question 1 is A \\nQuestion 2 is B \\nQuestion 3 is C\")"
   ]
  },
  {
   "cell_type": "code",
   "execution_count": 28,
   "id": "3c470d47",
   "metadata": {},
   "outputs": [
    {
     "name": "stdout",
     "output_type": "stream",
     "text": [
      "My name is Eric and my coworker is Jannat. \n",
      "We come from Kasoa, the great City of all times\n"
     ]
    }
   ],
   "source": [
    "print('My name is Eric and my coworker is Jannat. \\nWe come from Kasoa, the great City of all times')"
   ]
  },
  {
   "cell_type": "code",
   "execution_count": 29,
   "id": "b1054aa7",
   "metadata": {},
   "outputs": [
    {
     "name": "stdout",
     "output_type": "stream",
     "text": [
      "70 , 5 , 7 , , 21 , 25 , 46 , 10000\n"
     ]
    }
   ],
   "source": [
    "print(a,',',s,',',w,',',',',J,',',E,',',zz,',',k)\n"
   ]
  },
  {
   "cell_type": "code",
   "execution_count": 30,
   "id": "df85a35a",
   "metadata": {},
   "outputs": [],
   "source": [
    "Course =\"Meteorology and Climate Science.\"\n"
   ]
  },
  {
   "cell_type": "code",
   "execution_count": 31,
   "id": "dea2cd31",
   "metadata": {},
   "outputs": [
    {
     "data": {
      "text/plain": [
       "32"
      ]
     },
     "execution_count": 31,
     "metadata": {},
     "output_type": "execute_result"
    }
   ],
   "source": [
    "len(Course)#Python starts indexing from 0"
   ]
  },
  {
   "cell_type": "code",
   "execution_count": 32,
   "id": "92d0b6a8",
   "metadata": {},
   "outputs": [
    {
     "data": {
      "text/plain": [
       "'Met'"
      ]
     },
     "execution_count": 32,
     "metadata": {},
     "output_type": "execute_result"
    }
   ],
   "source": [
    "Course[0:3]#subsetting a range."
   ]
  },
  {
   "cell_type": "code",
   "execution_count": 33,
   "id": "4fe25c94",
   "metadata": {},
   "outputs": [
    {
     "data": {
      "text/plain": [
       "'oooyadCiaeSine'"
      ]
     },
     "execution_count": 33,
     "metadata": {},
     "output_type": "execute_result"
    }
   ],
   "source": [
    "Course[4::2]#it'll start from "
   ]
  },
  {
   "cell_type": "code",
   "execution_count": 34,
   "id": "c0670032",
   "metadata": {},
   "outputs": [
    {
     "data": {
      "text/plain": [
       "'ERIC'"
      ]
     },
     "execution_count": 34,
     "metadata": {},
     "output_type": "execute_result"
    }
   ],
   "source": [
    "m=\"E\"+\"R\"+\"I\"+\"C\"\n",
    "m"
   ]
  },
  {
   "cell_type": "code",
   "execution_count": 35,
   "id": "0c50601e",
   "metadata": {},
   "outputs": [
    {
     "name": "stdout",
     "output_type": "stream",
     "text": [
      "E I\n"
     ]
    }
   ],
   "source": [
    "print(m[0],m[2])"
   ]
  },
  {
   "cell_type": "code",
   "execution_count": 36,
   "id": "fd046e9f",
   "metadata": {},
   "outputs": [
    {
     "data": {
      "text/plain": [
       "'eric'"
      ]
     },
     "execution_count": 36,
     "metadata": {},
     "output_type": "execute_result"
    }
   ],
   "source": [
    "m.lower()\n"
   ]
  },
  {
   "cell_type": "code",
   "execution_count": 37,
   "id": "d4c9c388",
   "metadata": {},
   "outputs": [],
   "source": [
    "v='dorkutso'"
   ]
  },
  {
   "cell_type": "code",
   "execution_count": 38,
   "id": "f1242212",
   "metadata": {},
   "outputs": [
    {
     "data": {
      "text/plain": [
       "'DORKUTSO'"
      ]
     },
     "execution_count": 38,
     "metadata": {},
     "output_type": "execute_result"
    }
   ],
   "source": [
    "v.upper()"
   ]
  },
  {
   "cell_type": "code",
   "execution_count": null,
   "id": "d1c4d0be",
   "metadata": {},
   "outputs": [],
   "source": []
  },
  {
   "cell_type": "code",
   "execution_count": null,
   "id": "e740fe6c",
   "metadata": {},
   "outputs": [],
   "source": []
  },
  {
   "cell_type": "code",
   "execution_count": 40,
   "id": "7a56ad0f",
   "metadata": {},
   "outputs": [
    {
     "name": "stdout",
     "output_type": "stream",
     "text": [
      "3Y3 SERE\n",
      "ANIGYE3 \n",
      "NHYIRA\n"
     ]
    }
   ],
   "source": [
    "print('3Y3 SERE\\nANIGYE3 \\nNHYIRA')"
   ]
  },
  {
   "cell_type": "markdown",
   "id": "ffdd31b1",
   "metadata": {},
   "source": [
    "CONCATENATION\n",
    "=\n",
    "addn, numbers etc. together"
   ]
  },
  {
   "cell_type": "code",
   "execution_count": 41,
   "id": "f2ebce58",
   "metadata": {},
   "outputs": [
    {
     "name": "stdout",
     "output_type": "stream",
     "text": [
      "Meteorology and Climate Science \n"
     ]
    }
   ],
   "source": [
    "a='Meteorology '\n",
    "b='and '\n",
    "c='Climate '\n",
    "d='Science '\n",
    "print(a+b+c+d)"
   ]
  },
  {
   "cell_type": "code",
   "execution_count": 42,
   "id": "93caa3e8",
   "metadata": {},
   "outputs": [
    {
     "name": "stdout",
     "output_type": "stream",
     "text": [
      "Meteorology and Climate   Science \n"
     ]
    }
   ],
   "source": [
    "a='Meteorology '\n",
    "b='and '\n",
    "c='Climate '\n",
    "d='Science '\n",
    "print(a+b+c,'',d)"
   ]
  },
  {
   "cell_type": "code",
   "execution_count": 43,
   "id": "cd0610ec",
   "metadata": {},
   "outputs": [
    {
     "name": "stdout",
     "output_type": "stream",
     "text": [
      "VOTE FOR RHODA 2023 \n",
      "VOTE FOR RHODA 2023 \n",
      "VOTE FOR RHODA 2023 \n",
      "VOTE FOR RHODA 2023 \n",
      "VOTE FOR RHODA 2023 \n",
      "VOTE FOR RHODA 2023 \n",
      "VOTE FOR RHODA 2023 \n",
      "VOTE FOR RHODA 2023 \n",
      "VOTE FOR RHODA 2023 \n",
      "VOTE FOR RHODA 2023 \n",
      "VOTE FOR RHODA 2023 \n",
      "VOTE FOR RHODA 2023 \n",
      "VOTE FOR RHODA 2023 \n",
      "VOTE FOR RHODA 2023 \n",
      "VOTE FOR RHODA 2023 \n",
      "VOTE FOR RHODA 2023 \n",
      "VOTE FOR RHODA 2023 \n",
      "VOTE FOR RHODA 2023 \n",
      "VOTE FOR RHODA 2023 \n",
      "VOTE FOR RHODA 2023 \n",
      "VOTE FOR RHODA 2023 \n",
      "\n"
     ]
    }
   ],
   "source": [
    "print('VOTE FOR RHODA 2023 \\n'*21)"
   ]
  },
  {
   "cell_type": "markdown",
   "id": "2e9c1243",
   "metadata": {},
   "source": [
    "FORMATING OF STRING\n",
    "="
   ]
  },
  {
   "cell_type": "code",
   "execution_count": 45,
   "id": "48d9d8df",
   "metadata": {},
   "outputs": [],
   "source": [
    "q='Jannat said the economy is hard'"
   ]
  },
  {
   "cell_type": "code",
   "execution_count": 46,
   "id": "573247b7",
   "metadata": {},
   "outputs": [
    {
     "data": {
      "text/plain": [
       "'jannat said the economy is hard'"
      ]
     },
     "execution_count": 46,
     "metadata": {},
     "output_type": "execute_result"
    }
   ],
   "source": [
    "b=q.lower()\n",
    "b"
   ]
  },
  {
   "cell_type": "code",
   "execution_count": 47,
   "id": "2fa6d5a5",
   "metadata": {},
   "outputs": [],
   "source": [
    "c=b.upper()"
   ]
  },
  {
   "cell_type": "code",
   "execution_count": 48,
   "id": "9ee0ef7a",
   "metadata": {},
   "outputs": [
    {
     "data": {
      "text/plain": [
       "'JANNAT SAID THE ECONOMY IS HARD'"
      ]
     },
     "execution_count": 48,
     "metadata": {},
     "output_type": "execute_result"
    }
   ],
   "source": [
    "c"
   ]
  },
  {
   "cell_type": "code",
   "execution_count": 49,
   "id": "f31c01ab",
   "metadata": {},
   "outputs": [
    {
     "data": {
      "text/plain": [
       "'jannat said the economy is hard'"
      ]
     },
     "execution_count": 49,
     "metadata": {},
     "output_type": "execute_result"
    }
   ],
   "source": [
    "b.capitalize()\n",
    "\n",
    "b"
   ]
  },
  {
   "cell_type": "code",
   "execution_count": 55,
   "id": "199b96e0",
   "metadata": {},
   "outputs": [
    {
     "data": {
      "text/plain": [
       "['Jannat', 'said', 'the', 'economy', 'is', 'hard']"
      ]
     },
     "execution_count": 55,
     "metadata": {},
     "output_type": "execute_result"
    }
   ],
   "source": [
    "q.split()"
   ]
  },
  {
   "cell_type": "code",
   "execution_count": 56,
   "id": "3b7baca8",
   "metadata": {},
   "outputs": [
    {
     "data": {
      "text/plain": [
       "'Jannat said the economy is hard'"
      ]
     },
     "execution_count": 56,
     "metadata": {},
     "output_type": "execute_result"
    }
   ],
   "source": [
    "q.replace('Desmond', 'Eric')"
   ]
  },
  {
   "cell_type": "code",
   "execution_count": 57,
   "id": "72f8cdd7",
   "metadata": {},
   "outputs": [
    {
     "data": {
      "text/plain": [
       "'Jannat said the economy is hard'"
      ]
     },
     "execution_count": 57,
     "metadata": {},
     "output_type": "execute_result"
    }
   ],
   "source": [
    "q.replace('Desmond said','Eric says')"
   ]
  },
  {
   "cell_type": "code",
   "execution_count": 58,
   "id": "40836095",
   "metadata": {},
   "outputs": [],
   "source": [
    "first='Welcome to the {year} {prog} organized by {organizers}'.format(year=2022, prog='Internship', organizers='Dep')"
   ]
  },
  {
   "cell_type": "code",
   "execution_count": 59,
   "id": "7195da0a",
   "metadata": {},
   "outputs": [
    {
     "data": {
      "text/plain": [
       "'Welcome to the 2022 Internship organized by Dep'"
      ]
     },
     "execution_count": 59,
     "metadata": {},
     "output_type": "execute_result"
    }
   ],
   "source": [
    "first"
   ]
  },
  {
   "cell_type": "code",
   "execution_count": 60,
   "id": "4aa1b26b",
   "metadata": {},
   "outputs": [],
   "source": [
    "Second='Welcome to the {} {} organized by {}'.format(2022,'Internship','Dep')"
   ]
  },
  {
   "cell_type": "code",
   "execution_count": 61,
   "id": "ccfe15ed",
   "metadata": {},
   "outputs": [
    {
     "data": {
      "text/plain": [
       "'Welcome to the 2022 Internship organized by Dep'"
      ]
     },
     "execution_count": 61,
     "metadata": {},
     "output_type": "execute_result"
    }
   ],
   "source": [
    "Second"
   ]
  },
  {
   "cell_type": "code",
   "execution_count": 62,
   "id": "7d400061",
   "metadata": {},
   "outputs": [
    {
     "data": {
      "text/plain": [
       "2"
      ]
     },
     "execution_count": 62,
     "metadata": {},
     "output_type": "execute_result"
    }
   ],
   "source": [
    "7//3 #floor (which gives the whole number of a decimal number)"
   ]
  },
  {
   "cell_type": "code",
   "execution_count": 63,
   "id": "fd58c86a",
   "metadata": {},
   "outputs": [
    {
     "data": {
      "text/plain": [
       "2"
      ]
     },
     "execution_count": 63,
     "metadata": {},
     "output_type": "execute_result"
    }
   ],
   "source": [
    "6%4 #Modulus: This gives the remainder"
   ]
  },
  {
   "cell_type": "code",
   "execution_count": 64,
   "id": "828c06ea",
   "metadata": {},
   "outputs": [
    {
     "data": {
      "text/plain": [
       "False"
      ]
     },
     "execution_count": 64,
     "metadata": {},
     "output_type": "execute_result"
    }
   ],
   "source": [
    "2>75"
   ]
  },
  {
   "cell_type": "code",
   "execution_count": 65,
   "id": "e4a8f2e8",
   "metadata": {},
   "outputs": [
    {
     "data": {
      "text/plain": [
       "bool"
      ]
     },
     "execution_count": 65,
     "metadata": {},
     "output_type": "execute_result"
    }
   ],
   "source": [
    "type(11.2 == 11.22)"
   ]
  },
  {
   "cell_type": "code",
   "execution_count": 66,
   "id": "f7a9cae0",
   "metadata": {},
   "outputs": [],
   "source": [
    "f=['Jannat','Eric']"
   ]
  },
  {
   "cell_type": "code",
   "execution_count": 67,
   "id": "dbe142ba",
   "metadata": {},
   "outputs": [],
   "source": [
    "l=f.append('Desmond')"
   ]
  },
  {
   "cell_type": "code",
   "execution_count": 68,
   "id": "40b116f4",
   "metadata": {},
   "outputs": [],
   "source": [
    "#fROZENSET\n"
   ]
  },
  {
   "cell_type": "markdown",
   "id": "4dcd91f5",
   "metadata": {},
   "source": [
    "DICTIONARY\n",
    "="
   ]
  },
  {
   "cell_type": "code",
   "execution_count": 70,
   "id": "288fb199",
   "metadata": {},
   "outputs": [],
   "source": [
    "a={\n",
    "    'Name':'Desmond ',\n",
    "    'Number':'0555971863',\n",
    "    'Age': '17',\n",
    "    'Sex':'Male',\n",
    "    'Wife':'Rhoda'\n",
    "}"
   ]
  },
  {
   "cell_type": "code",
   "execution_count": 71,
   "id": "06b3c35a",
   "metadata": {},
   "outputs": [
    {
     "data": {
      "text/plain": [
       "{'Name': 'Desmond ',\n",
       " 'Number': '0555971863',\n",
       " 'Age': '17',\n",
       " 'Sex': 'Male',\n",
       " 'Wife': 'Rhoda'}"
      ]
     },
     "execution_count": 71,
     "metadata": {},
     "output_type": "execute_result"
    }
   ],
   "source": [
    "a"
   ]
  },
  {
   "cell_type": "code",
   "execution_count": 72,
   "id": "5531e4d4",
   "metadata": {},
   "outputs": [
    {
     "data": {
      "text/plain": [
       "True"
      ]
     },
     "execution_count": 72,
     "metadata": {},
     "output_type": "execute_result"
    }
   ],
   "source": [
    "9!=3"
   ]
  },
  {
   "cell_type": "code",
   "execution_count": 73,
   "id": "2afa5ef7",
   "metadata": {},
   "outputs": [
    {
     "data": {
      "text/plain": [
       "True"
      ]
     },
     "execution_count": 73,
     "metadata": {},
     "output_type": "execute_result"
    }
   ],
   "source": [
    "2<=20"
   ]
  },
  {
   "cell_type": "code",
   "execution_count": 74,
   "id": "06a26483",
   "metadata": {},
   "outputs": [
    {
     "data": {
      "text/plain": [
       "False"
      ]
     },
     "execution_count": 74,
     "metadata": {},
     "output_type": "execute_result"
    }
   ],
   "source": [
    "2>=9"
   ]
  },
  {
   "cell_type": "code",
   "execution_count": 75,
   "id": "3d27791a",
   "metadata": {},
   "outputs": [
    {
     "data": {
      "text/plain": [
       "True"
      ]
     },
     "execution_count": 75,
     "metadata": {},
     "output_type": "execute_result"
    }
   ],
   "source": [
    "(6%4)==2"
   ]
  },
  {
   "cell_type": "markdown",
   "id": "692be789",
   "metadata": {},
   "source": [
    "LOGICAL OPERATIONS\n",
    "="
   ]
  },
  {
   "cell_type": "code",
   "execution_count": 76,
   "id": "0e99a414",
   "metadata": {},
   "outputs": [
    {
     "data": {
      "text/plain": [
       "False"
      ]
     },
     "execution_count": 76,
     "metadata": {},
     "output_type": "execute_result"
    }
   ],
   "source": [
    "(5<2)&(5>3)#when both statements are true\n",
    "#OR\n",
    "#NOT"
   ]
  },
  {
   "cell_type": "markdown",
   "id": "b415976d",
   "metadata": {},
   "source": [
    "ONE WAY DECISON\n",
    "="
   ]
  },
  {
   "cell_type": "code",
   "execution_count": 77,
   "id": "5bc9a2f7",
   "metadata": {},
   "outputs": [],
   "source": [
    "x=5"
   ]
  },
  {
   "cell_type": "code",
   "execution_count": 78,
   "id": "21a9b567",
   "metadata": {},
   "outputs": [
    {
     "name": "stdout",
     "output_type": "stream",
     "text": [
      "x equals 5\n"
     ]
    }
   ],
   "source": [
    "if x==5:\n",
    "    print('x equals 5')\n"
   ]
  },
  {
   "cell_type": "code",
   "execution_count": 79,
   "id": "4d2f2819",
   "metadata": {},
   "outputs": [
    {
     "name": "stdout",
     "output_type": "stream",
     "text": [
      "x is greater than four\n"
     ]
    }
   ],
   "source": [
    "if x>4:\n",
    "    print('x is greater than four')"
   ]
  },
  {
   "cell_type": "code",
   "execution_count": 80,
   "id": "5a514f1f",
   "metadata": {},
   "outputs": [
    {
     "name": "stdout",
     "output_type": "stream",
     "text": [
      "Desmond is tired\n"
     ]
    }
   ],
   "source": [
    "if x!=6:\n",
    "    print('Desmond is tired')"
   ]
  },
  {
   "cell_type": "markdown",
   "id": "bd6d47c5",
   "metadata": {},
   "source": [
    "Two Way Decisions\n",
    "="
   ]
  },
  {
   "cell_type": "code",
   "execution_count": 81,
   "id": "96d3db6d",
   "metadata": {},
   "outputs": [
    {
     "name": "stdout",
     "output_type": "stream",
     "text": [
      "Your age: \n"
     ]
    },
    {
     "data": {
      "text/plain": [
       "''"
      ]
     },
     "execution_count": 81,
     "metadata": {},
     "output_type": "execute_result"
    }
   ],
   "source": [
    "input('Your age: ')"
   ]
  },
  {
   "cell_type": "code",
   "execution_count": 82,
   "id": "2fcdbb3c",
   "metadata": {},
   "outputs": [
    {
     "name": "stdout",
     "output_type": "stream",
     "text": [
      "Please enter your fulname \n",
      "Please look for your partner\n"
     ]
    }
   ],
   "source": [
    "name= input('Please enter your fulname ')\n",
    "if name=='Jannat':\n",
    "    print('You are my partner')\n",
    "else:\n",
    "    print('Please look for your partner')"
   ]
  },
  {
   "cell_type": "code",
   "execution_count": 83,
   "id": "15f9268c",
   "metadata": {},
   "outputs": [
    {
     "name": "stdout",
     "output_type": "stream",
     "text": [
      "Please,place your order \n",
      "\n",
      "Oohs! sorry we have only jolof currently.\n"
     ]
    }
   ],
   "source": [
    "menu = input('Please,place your order ')\n",
    "print('')\n",
    "if menu == 'Jolof':\n",
    "    print(\"It'll be delivered soon please\")\n",
    "else:\n",
    "    print('Oohs! sorry we have only jolof currently.')"
   ]
  },
  {
   "cell_type": "markdown",
   "id": "dbaa147d",
   "metadata": {},
   "source": [
    "A NESTED IF STATEMENTS\n",
    "="
   ]
  },
  {
   "cell_type": "code",
   "execution_count": 84,
   "id": "1c5c93ef",
   "metadata": {},
   "outputs": [
    {
     "name": "stdout",
     "output_type": "stream",
     "text": [
      "Enter your grade \n"
     ]
    },
    {
     "ename": "ValueError",
     "evalue": "invalid literal for int() with base 10: ''",
     "output_type": "error",
     "traceback": [
      "\u001b[0;31m---------------------------------------------------------------------------\u001b[0m",
      "\u001b[0;31mValueError\u001b[0m                                Traceback (most recent call last)",
      "\u001b[0;32m/tmp/ipykernel_6194/2903756627.py\u001b[0m in \u001b[0;36m<module>\u001b[0;34m\u001b[0m\n\u001b[0;32m----> 1\u001b[0;31m \u001b[0mgrade\u001b[0m\u001b[0;34m=\u001b[0m \u001b[0mint\u001b[0m\u001b[0;34m(\u001b[0m\u001b[0minput\u001b[0m\u001b[0;34m(\u001b[0m\u001b[0;34m'Enter your grade '\u001b[0m\u001b[0;34m)\u001b[0m\u001b[0;34m)\u001b[0m\u001b[0;31m#100\u001b[0m\u001b[0;34m\u001b[0m\u001b[0;34m\u001b[0m\u001b[0m\n\u001b[0m\u001b[1;32m      2\u001b[0m \u001b[0mprint\u001b[0m\u001b[0;34m(\u001b[0m\u001b[0;34m''\u001b[0m\u001b[0;34m)\u001b[0m\u001b[0;34m\u001b[0m\u001b[0;34m\u001b[0m\u001b[0m\n\u001b[1;32m      3\u001b[0m \u001b[0;32mif\u001b[0m \u001b[0mgrade\u001b[0m\u001b[0;34m>\u001b[0m\u001b[0;36m60\u001b[0m\u001b[0;34m:\u001b[0m\u001b[0;34m\u001b[0m\u001b[0;34m\u001b[0m\u001b[0m\n\u001b[1;32m      4\u001b[0m     \u001b[0mprint\u001b[0m\u001b[0;34m(\u001b[0m\u001b[0;34m'\\tStudent scored a passing grade'\u001b[0m\u001b[0;34m)\u001b[0m\u001b[0;34m\u001b[0m\u001b[0;34m\u001b[0m\u001b[0m\n\u001b[1;32m      5\u001b[0m     \u001b[0;32mif\u001b[0m \u001b[0mgrade\u001b[0m \u001b[0;34m>=\u001b[0m\u001b[0;36m90\u001b[0m\u001b[0;34m:\u001b[0m\u001b[0;34m\u001b[0m\u001b[0;34m\u001b[0m\u001b[0m\n",
      "\u001b[0;31mValueError\u001b[0m: invalid literal for int() with base 10: ''"
     ]
    }
   ],
   "source": [
    "grade= int(input('Enter your grade '))#100\n",
    "print('')\n",
    "if grade>60:\n",
    "    print('\\tStudent scored a passing grade')\n",
    "    if grade >=90:\n",
    "        print('\\tPassed with A')\n",
    "        if grade >=96:\n",
    "            print('\\tPassed with A+')\n",
    "    "
   ]
  },
  {
   "cell_type": "code",
   "execution_count": 85,
   "id": "1f55153b",
   "metadata": {},
   "outputs": [
    {
     "name": "stdout",
     "output_type": "stream",
     "text": [
      "Please enter your grade \n"
     ]
    },
    {
     "ename": "ValueError",
     "evalue": "invalid literal for int() with base 10: ''",
     "output_type": "error",
     "traceback": [
      "\u001b[0;31m---------------------------------------------------------------------------\u001b[0m",
      "\u001b[0;31mValueError\u001b[0m                                Traceback (most recent call last)",
      "\u001b[0;32m/tmp/ipykernel_6194/2188595635.py\u001b[0m in \u001b[0;36m<module>\u001b[0;34m\u001b[0m\n\u001b[0;32m----> 1\u001b[0;31m \u001b[0mgrade\u001b[0m \u001b[0;34m=\u001b[0m\u001b[0mint\u001b[0m\u001b[0;34m(\u001b[0m\u001b[0minput\u001b[0m\u001b[0;34m(\u001b[0m\u001b[0;34m'Please enter your grade '\u001b[0m\u001b[0;34m)\u001b[0m\u001b[0;34m)\u001b[0m\u001b[0;34m\u001b[0m\u001b[0;34m\u001b[0m\u001b[0m\n\u001b[0m\u001b[1;32m      2\u001b[0m \u001b[0mprint\u001b[0m\u001b[0;34m(\u001b[0m\u001b[0;34m''\u001b[0m\u001b[0;34m)\u001b[0m\u001b[0;34m\u001b[0m\u001b[0;34m\u001b[0m\u001b[0m\n\u001b[1;32m      3\u001b[0m \u001b[0;32mif\u001b[0m \u001b[0mgrade\u001b[0m \u001b[0;34m>=\u001b[0m\u001b[0;36m70\u001b[0m \u001b[0;32mand\u001b[0m \u001b[0mgrade\u001b[0m \u001b[0;34m<=\u001b[0m\u001b[0;36m100\u001b[0m\u001b[0;34m:\u001b[0m\u001b[0;34m\u001b[0m\u001b[0;34m\u001b[0m\u001b[0m\n\u001b[1;32m      4\u001b[0m     \u001b[0mprint\u001b[0m\u001b[0;34m(\u001b[0m\u001b[0;34m'A'\u001b[0m\u001b[0;34m)\u001b[0m\u001b[0;34m\u001b[0m\u001b[0;34m\u001b[0m\u001b[0m\n\u001b[1;32m      5\u001b[0m \u001b[0;32melif\u001b[0m \u001b[0mgrade\u001b[0m \u001b[0;34m>=\u001b[0m\u001b[0;36m60\u001b[0m \u001b[0;32mand\u001b[0m \u001b[0mgrade\u001b[0m \u001b[0;34m<=\u001b[0m\u001b[0;36m69\u001b[0m\u001b[0;34m:\u001b[0m\u001b[0;34m\u001b[0m\u001b[0;34m\u001b[0m\u001b[0m\n",
      "\u001b[0;31mValueError\u001b[0m: invalid literal for int() with base 10: ''"
     ]
    }
   ],
   "source": [
    "grade =int(input('Please enter your grade '))\n",
    "print('')\n",
    "if grade >=70 and grade <=100:\n",
    "    print('A')\n",
    "elif grade >=60 and grade <=69:\n",
    "    print('B')\n",
    "elif grade >=50 and grade <=59:\n",
    "    print('C')\n",
    "elif grade>=40 and grade <=49:\n",
    "    print('D')\n",
    "else:\n",
    "    print('You have failed, come for your school fees')"
   ]
  },
  {
   "cell_type": "code",
   "execution_count": 92,
   "id": "9997f373",
   "metadata": {},
   "outputs": [],
   "source": [
    "#Assignment\n",
    "#C=5\n",
    "#while C<=80:\n",
    "    #K=273.16+C\n",
    "#K=273.16+x\n",
    "#while K<=80\n",
    "  #print(K,C)\n",
    "#c\n",
    "#range from 5 to 80\n",
    "#change from cel to kelvin"
   ]
  },
  {
   "cell_type": "code",
   "execution_count": 97,
   "id": "75f1f4bf",
   "metadata": {},
   "outputs": [
    {
     "name": "stdout",
     "output_type": "stream",
     "text": [
      "{'Name': 'Desmond ', 'Number': '0555971863', 'Age': '17', 'Sex': 'Male', 'Wife': 'Rhoda'}\n",
      "{'Name': 'Desmond ', 'Number': '0555971863', 'Age': '17', 'Sex': 'Male', 'Wife': 'Rhoda'}\n",
      "{'Name': 'Desmond ', 'Number': '0555971863', 'Age': '17', 'Sex': 'Male', 'Wife': 'Rhoda'}\n",
      "{'Name': 'Desmond ', 'Number': '0555971863', 'Age': '17', 'Sex': 'Male', 'Wife': 'Rhoda'}\n",
      "{'Name': 'Desmond ', 'Number': '0555971863', 'Age': '17', 'Sex': 'Male', 'Wife': 'Rhoda'}\n",
      "{'Name': 'Desmond ', 'Number': '0555971863', 'Age': '17', 'Sex': 'Male', 'Wife': 'Rhoda'}\n",
      "{'Name': 'Desmond ', 'Number': '0555971863', 'Age': '17', 'Sex': 'Male', 'Wife': 'Rhoda'}\n",
      "{'Name': 'Desmond ', 'Number': '0555971863', 'Age': '17', 'Sex': 'Male', 'Wife': 'Rhoda'}\n",
      "{'Name': 'Desmond ', 'Number': '0555971863', 'Age': '17', 'Sex': 'Male', 'Wife': 'Rhoda'}\n",
      "{'Name': 'Desmond ', 'Number': '0555971863', 'Age': '17', 'Sex': 'Male', 'Wife': 'Rhoda'}\n",
      "{'Name': 'Desmond ', 'Number': '0555971863', 'Age': '17', 'Sex': 'Male', 'Wife': 'Rhoda'}\n",
      "{'Name': 'Desmond ', 'Number': '0555971863', 'Age': '17', 'Sex': 'Male', 'Wife': 'Rhoda'}\n",
      "{'Name': 'Desmond ', 'Number': '0555971863', 'Age': '17', 'Sex': 'Male', 'Wife': 'Rhoda'}\n",
      "{'Name': 'Desmond ', 'Number': '0555971863', 'Age': '17', 'Sex': 'Male', 'Wife': 'Rhoda'}\n",
      "{'Name': 'Desmond ', 'Number': '0555971863', 'Age': '17', 'Sex': 'Male', 'Wife': 'Rhoda'}\n",
      "{'Name': 'Desmond ', 'Number': '0555971863', 'Age': '17', 'Sex': 'Male', 'Wife': 'Rhoda'}\n",
      "{'Name': 'Desmond ', 'Number': '0555971863', 'Age': '17', 'Sex': 'Male', 'Wife': 'Rhoda'}\n",
      "{'Name': 'Desmond ', 'Number': '0555971863', 'Age': '17', 'Sex': 'Male', 'Wife': 'Rhoda'}\n"
     ]
    }
   ],
   "source": [
    "#EXAMPLES WITH A STRINGS\n",
    "\n",
    "Language=\"PYTHON PROGRAMMING\"\n",
    "for l in Language:\n",
    "  print(a)"
   ]
  },
  {
   "cell_type": "code",
   "execution_count": null,
   "id": "238f31df",
   "metadata": {},
   "outputs": [],
   "source": [
    "#numpy\n",
    "#import numpy as np"
   ]
  },
  {
   "cell_type": "code",
   "execution_count": 8,
   "id": "0d25a123",
   "metadata": {},
   "outputs": [],
   "source": [
    "#creating a rande for the whole number of years\n",
    "#days=np.arrage(1,135)"
   ]
  },
  {
   "cell_type": "code",
   "execution_count": 39,
   "id": "59fa2070",
   "metadata": {},
   "outputs": [
    {
     "name": "stdout",
     "output_type": "stream",
     "text": [
      "1\n",
      "2\n",
      "3\n",
      "4\n",
      "5\n",
      "6\n",
      "7\n",
      "8\n",
      "9\n",
      "10\n",
      "11\n",
      "12\n",
      "13\n",
      "14\n",
      "15\n",
      "16\n",
      "17\n",
      "18\n",
      "19\n",
      "20\n",
      "21\n",
      "22\n",
      "23\n",
      "24\n",
      "25\n",
      "26\n",
      "27\n",
      "28\n",
      "29\n",
      "30\n",
      "31\n",
      "32\n",
      "33\n",
      "34\n",
      "35\n",
      "36\n",
      "37\n",
      "38\n",
      "39\n",
      "40\n",
      "41\n",
      "42\n",
      "43\n",
      "44\n",
      "45\n",
      "46\n",
      "47\n",
      "48\n",
      "49\n",
      "50\n",
      "51\n",
      "52\n",
      "53\n",
      "54\n",
      "55\n",
      "56\n",
      "57\n",
      "58\n",
      "59\n",
      "60\n",
      "61\n",
      "62\n",
      "63\n",
      "64\n",
      "65\n",
      "66\n",
      "67\n",
      "68\n",
      "69\n",
      "70\n",
      "71\n",
      "72\n",
      "73\n",
      "74\n",
      "75\n",
      "76\n",
      "77\n",
      "78\n",
      "79\n",
      "80\n",
      "81\n",
      "82\n",
      "83\n",
      "84\n",
      "85\n",
      "86\n",
      "87\n",
      "88\n",
      "89\n",
      "90\n",
      "91\n",
      "92\n",
      "93\n",
      "94\n",
      "95\n",
      "96\n",
      "97\n",
      "98\n",
      "99\n",
      "100\n",
      "101\n",
      "102\n",
      "103\n",
      "104\n",
      "105\n",
      "106\n",
      "107\n",
      "108\n",
      "109\n",
      "110\n",
      "111\n",
      "112\n",
      "113\n",
      "114\n",
      "115\n",
      "116\n",
      "117\n",
      "118\n",
      "119\n",
      "120\n",
      "121\n",
      "122\n",
      "123\n",
      "124\n",
      "125\n",
      "126\n",
      "127\n",
      "128\n",
      "129\n",
      "130\n",
      "131\n",
      "132\n",
      "133\n",
      "134\n",
      "135\n",
      "136\n",
      "137\n",
      "138\n",
      "139\n",
      "140\n",
      "141\n",
      "142\n",
      "143\n",
      "144\n",
      "145\n",
      "146\n",
      "147\n",
      "148\n",
      "149\n",
      "150\n",
      "151\n",
      "152\n",
      "153\n",
      "154\n",
      "155\n",
      "156\n",
      "157\n",
      "158\n",
      "159\n",
      "160\n",
      "161\n",
      "162\n",
      "163\n",
      "164\n",
      "165\n",
      "166\n",
      "167\n",
      "168\n",
      "169\n",
      "170\n",
      "171\n",
      "172\n",
      "173\n",
      "174\n",
      "175\n",
      "176\n",
      "177\n",
      "178\n",
      "179\n",
      "180\n",
      "181\n",
      "182\n",
      "183\n",
      "184\n",
      "185\n",
      "186\n",
      "187\n",
      "188\n",
      "189\n",
      "190\n",
      "191\n",
      "192\n",
      "193\n",
      "194\n",
      "195\n",
      "196\n",
      "197\n",
      "198\n",
      "199\n",
      "200\n",
      "201\n",
      "202\n",
      "203\n",
      "204\n",
      "205\n",
      "206\n",
      "207\n",
      "208\n",
      "209\n",
      "210\n",
      "211\n",
      "212\n",
      "213\n",
      "214\n",
      "215\n",
      "216\n",
      "217\n",
      "218\n",
      "219\n",
      "220\n",
      "221\n",
      "222\n",
      "223\n",
      "224\n",
      "225\n",
      "226\n",
      "227\n",
      "228\n",
      "229\n",
      "230\n",
      "231\n",
      "232\n",
      "233\n",
      "234\n",
      "235\n",
      "236\n",
      "237\n",
      "238\n",
      "239\n",
      "240\n",
      "241\n",
      "242\n",
      "243\n",
      "244\n",
      "245\n",
      "246\n",
      "247\n",
      "248\n",
      "249\n",
      "250\n",
      "251\n",
      "252\n",
      "253\n",
      "254\n",
      "255\n",
      "256\n",
      "257\n",
      "258\n",
      "259\n",
      "260\n",
      "261\n",
      "262\n",
      "263\n",
      "264\n",
      "265\n",
      "266\n",
      "267\n",
      "268\n",
      "269\n",
      "270\n",
      "271\n",
      "272\n",
      "273\n",
      "274\n",
      "275\n",
      "276\n",
      "277\n",
      "278\n",
      "279\n",
      "280\n",
      "281\n",
      "282\n",
      "283\n",
      "284\n",
      "285\n",
      "286\n",
      "287\n",
      "288\n",
      "289\n",
      "290\n",
      "291\n",
      "292\n",
      "293\n",
      "294\n",
      "295\n",
      "296\n",
      "297\n",
      "298\n",
      "299\n",
      "300\n",
      "301\n",
      "302\n",
      "303\n",
      "304\n",
      "305\n",
      "306\n",
      "307\n",
      "308\n",
      "309\n",
      "310\n",
      "311\n",
      "312\n",
      "313\n",
      "314\n",
      "315\n",
      "316\n",
      "317\n",
      "318\n",
      "319\n",
      "320\n",
      "321\n",
      "322\n",
      "323\n",
      "324\n",
      "325\n",
      "326\n",
      "327\n",
      "328\n",
      "329\n",
      "330\n",
      "331\n",
      "332\n",
      "333\n",
      "334\n",
      "335\n",
      "336\n",
      "337\n",
      "338\n",
      "339\n",
      "340\n",
      "341\n",
      "342\n",
      "343\n",
      "344\n",
      "345\n",
      "346\n",
      "347\n",
      "348\n",
      "349\n",
      "350\n",
      "351\n",
      "352\n",
      "353\n",
      "354\n",
      "355\n",
      "356\n",
      "357\n",
      "358\n",
      "359\n",
      "360\n",
      "361\n",
      "362\n",
      "363\n",
      "364\n"
     ]
    }
   ],
   "source": [
    "for x in range(1,365,1):\n",
    "    \n",
    "       \n",
    "    print(x)\n"
   ]
  },
  {
   "cell_type": "code",
   "execution_count": 17,
   "id": "09841fd8",
   "metadata": {},
   "outputs": [
    {
     "name": "stdout",
     "output_type": "stream",
     "text": [
      "5 * 1 = 5\n",
      "5 * 2 = 10\n",
      "5 * 3 = 15\n",
      "5 * 4 = 20\n",
      "5 * 5 = 25\n",
      "5 * 6 = 30\n",
      "5 * 7 = 35\n",
      "5 * 8 = 40\n",
      "5 * 9 = 45\n",
      "5 * 10 = 50\n"
     ]
    }
   ],
   "source": [
    "#NESTED LOOP\n",
    "A=[1,2,3,4,5,6,7,8,9,10]\n",
    "B=[5]\n",
    "for a in A:\n",
    "    for b in B:\n",
    "        \n",
    "        y=a*b\n",
    "        print(b,'*',a,'=',y)\n"
   ]
  },
  {
   "cell_type": "code",
   "execution_count": 24,
   "id": "2b5bb7f0",
   "metadata": {},
   "outputs": [
    {
     "name": "stdout",
     "output_type": "stream",
     "text": [
      "3 + 2 + = 10\n",
      "3 + 2 + = 8\n",
      "5 + 2 + = 12\n",
      "5 + 2 + = 10\n",
      "3 + 5 + = 13\n",
      "3 + 5 + = 11\n",
      "5 + 5 + = 15\n",
      "5 + 5 + = 13\n"
     ]
    }
   ],
   "source": [
    "N=[2,5]\n",
    "M=[3,5]\n",
    "O=[5,3]\n",
    "\n",
    "for n in N:\n",
    "    for m in M:\n",
    "        for o in O:\n",
    "            \n",
    "            u = m+n+o\n",
    "            print(m,'+',n,'+','=',u)"
   ]
  },
  {
   "cell_type": "code",
   "execution_count": 36,
   "id": "c06352e9",
   "metadata": {},
   "outputs": [
    {
     "name": "stdout",
     "output_type": "stream",
     "text": [
      "Bright i have found you\n"
     ]
    }
   ],
   "source": [
    "#BREAK\n",
    "names=['John','Gideon','Elvis','grace','Bright']\n",
    "for name in names:\n",
    "    if name == 'Bright':\n",
    "        print(name,'i have found you')\n",
    "        break"
   ]
  },
  {
   "cell_type": "code",
   "execution_count": 55,
   "id": "e9609ecf",
   "metadata": {},
   "outputs": [
    {
     "name": "stdout",
     "output_type": "stream",
     "text": [
      "yooo\n",
      "number is 1\n",
      "\n",
      "yooo\n",
      "number is 2\n",
      "\n",
      "yooo\n",
      "number is 3\n",
      "\n",
      "yooo\n",
      "number is 4\n",
      "\n",
      "5 is skipped\n",
      "yooo\n",
      "number is 6\n",
      "\n",
      "yooo\n",
      "number is 7\n",
      "\n",
      "yooo\n",
      "number is 8\n",
      "\n",
      "yooo\n",
      "number is 9\n",
      "\n",
      "yooo\n",
      "number is 10\n",
      "\n"
     ]
    }
   ],
   "source": [
    "#break,while continue and pass\n",
    "\n",
    "#continue\n",
    "ctr=0\n",
    "\n",
    "for ctr in range(10):\n",
    "    ctr=ctr+1\n",
    "    if ctr==5:\n",
    "        print('5 is skipped')\n",
    "        \n",
    "        continue\n",
    "    print('yooo')  \n",
    "    print('number is ' + str(ctr))   \n",
    "    print('')  \n",
    "\n"
   ]
  },
  {
   "cell_type": "code",
   "execution_count": 60,
   "id": "34b22364",
   "metadata": {},
   "outputs": [
    {
     "name": "stdout",
     "output_type": "stream",
     "text": [
      "yooo\n",
      "you have passed ... 10\n",
      "out of loop\n",
      "yooo\n",
      "you have passed ... 10\n",
      "out of loop\n",
      "yooo\n",
      "you have passed ... 10\n",
      "out of loop\n",
      "yooo\n",
      "you have passed ... 10\n",
      "out of loop\n",
      "yooo\n",
      "you have passed ... 10\n",
      "out of loop\n",
      "yooo\n",
      "you have passed ... 10\n",
      "out of loop\n",
      "yooo\n",
      "you have passed ... 10\n",
      "out of loop\n",
      "yooo\n",
      "you have passed ... 10\n",
      "out of loop\n",
      "yooo\n",
      "you have passed ... 10\n",
      "out of loop\n",
      "yooo\n",
      "you have passed ... 10\n",
      "out of loop\n",
      "yooo\n",
      "you have passed ... 10\n",
      "out of loop\n",
      "yooo\n",
      "you have passed ... 10\n",
      "out of loop\n",
      "yooo\n",
      "you have passed ... 10\n",
      "out of loop\n",
      "yooo\n",
      "you have passed ... 10\n",
      "out of loop\n",
      "yooo\n",
      "you have passed ... 10\n",
      "out of loop\n",
      "yooo\n",
      "you have passed ... 10\n",
      "out of loop\n",
      "yooo\n",
      "you have passed ... 10\n",
      "out of loop\n",
      "yooo\n",
      "you have passed ... 10\n",
      "out of loop\n",
      "yooo\n",
      "you have passed ... 10\n",
      "out of loop\n",
      "yooo\n",
      "you have passed ... 10\n",
      "out of loop\n",
      "yooo\n",
      "you have passed ... 10\n",
      "out of loop\n",
      "yooo\n",
      "you have passed ... 10\n",
      "out of loop\n",
      "yooo\n",
      "you have passed ... 10\n",
      "out of loop\n",
      "yooo\n",
      "you have passed ... 10\n",
      "out of loop\n",
      "yooo\n",
      "you have passed ... 10\n",
      "out of loop\n",
      "yooo\n",
      "you have passed ... 10\n",
      "out of loop\n",
      "yooo\n",
      "you have passed ... 10\n",
      "out of loop\n",
      "yooo\n",
      "you have passed ... 10\n",
      "out of loop\n",
      "yooo\n",
      "you have passed ... 10\n",
      "out of loop\n",
      "yooo\n",
      "you have passed ... 10\n",
      "out of loop\n",
      "yooo\n",
      "you have passed ... 10\n",
      "out of loop\n",
      "yooo\n",
      "you have passed ... 10\n",
      "out of loop\n",
      "yooo\n",
      "you have passed ... 10\n",
      "out of loop\n",
      "yooo\n",
      "you have passed ... 10\n",
      "out of loop\n",
      "yooo\n",
      "you have passed ... 10\n",
      "out of loop\n",
      "yooo\n",
      "you have passed ... 10\n",
      "out of loop\n",
      "yooo\n",
      "you have passed ... 10\n",
      "out of loop\n",
      "yooo\n",
      "you have passed ... 10\n",
      "out of loop\n",
      "yooo\n",
      "you have passed ... 10\n",
      "out of loop\n",
      "you have failed\n",
      "yooo\n",
      "you have passed ... 10\n",
      "out of loop\n",
      "yooo\n",
      "you have passed ... 10\n",
      "out of loop\n",
      "yooo\n",
      "you have passed ... 10\n",
      "out of loop\n",
      "yooo\n",
      "you have passed ... 10\n",
      "out of loop\n",
      "yooo\n",
      "you have passed ... 10\n",
      "out of loop\n",
      "yooo\n",
      "you have passed ... 10\n",
      "out of loop\n",
      "yooo\n",
      "you have passed ... 10\n",
      "out of loop\n",
      "yooo\n",
      "you have passed ... 10\n",
      "out of loop\n",
      "yooo\n",
      "you have passed ... 10\n",
      "out of loop\n",
      "yooo\n",
      "you have passed ... 10\n",
      "out of loop\n",
      "yooo\n",
      "you have passed ... 10\n",
      "out of loop\n",
      "yooo\n",
      "you have passed ... 10\n",
      "out of loop\n",
      "yooo\n",
      "you have passed ... 10\n",
      "out of loop\n",
      "yooo\n",
      "you have passed ... 10\n",
      "out of loop\n",
      "yooo\n",
      "you have passed ... 10\n",
      "out of loop\n",
      "yooo\n",
      "you have passed ... 10\n",
      "out of loop\n",
      "yooo\n",
      "you have passed ... 10\n",
      "out of loop\n",
      "yooo\n",
      "you have passed ... 10\n",
      "out of loop\n",
      "yooo\n",
      "you have passed ... 10\n",
      "out of loop\n",
      "yooo\n",
      "you have passed ... 10\n",
      "out of loop\n",
      "yooo\n",
      "you have passed ... 10\n",
      "out of loop\n",
      "yooo\n",
      "you have passed ... 10\n",
      "out of loop\n",
      "yooo\n",
      "you have passed ... 10\n",
      "out of loop\n",
      "yooo\n",
      "you have passed ... 10\n",
      "out of loop\n",
      "yooo\n",
      "you have passed ... 10\n",
      "out of loop\n",
      "yooo\n",
      "you have passed ... 10\n",
      "out of loop\n",
      "yooo\n",
      "you have passed ... 10\n",
      "out of loop\n",
      "yooo\n",
      "you have passed ... 10\n",
      "out of loop\n",
      "yooo\n",
      "you have passed ... 10\n",
      "out of loop\n",
      "yooo\n",
      "you have passed ... 10\n",
      "out of loop\n",
      "yooo\n",
      "you have passed ... 10\n",
      "out of loop\n",
      "yooo\n",
      "you have passed ... 10\n",
      "out of loop\n",
      "yooo\n",
      "you have passed ... 10\n",
      "out of loop\n",
      "yooo\n",
      "you have passed ... 10\n",
      "out of loop\n",
      "yooo\n",
      "you have passed ... 10\n",
      "out of loop\n",
      "yooo\n",
      "you have passed ... 10\n",
      "out of loop\n",
      "yooo\n",
      "you have passed ... 10\n",
      "out of loop\n",
      "yooo\n",
      "you have passed ... 10\n",
      "out of loop\n",
      "yooo\n",
      "you have passed ... 10\n",
      "out of loop\n",
      "yooo\n",
      "you have passed ... 10\n",
      "out of loop\n",
      "yooo\n",
      "you have passed ... 10\n",
      "out of loop\n",
      "yooo\n",
      "you have passed ... 10\n",
      "out of loop\n",
      "yooo\n",
      "you have passed ... 10\n",
      "out of loop\n",
      "yooo\n",
      "you have passed ... 10\n",
      "out of loop\n",
      "yooo\n",
      "you have passed ... 10\n",
      "out of loop\n",
      "yooo\n",
      "you have passed ... 10\n",
      "out of loop\n",
      "yooo\n",
      "you have passed ... 10\n",
      "out of loop\n",
      "yooo\n",
      "you have passed ... 10\n",
      "out of loop\n",
      "yooo\n",
      "you have passed ... 10\n",
      "out of loop\n",
      "yooo\n",
      "you have passed ... 10\n",
      "out of loop\n",
      "yooo\n",
      "you have passed ... 10\n",
      "out of loop\n",
      "yooo\n",
      "you have passed ... 10\n",
      "out of loop\n",
      "yooo\n",
      "you have passed ... 10\n",
      "out of loop\n",
      "yooo\n",
      "you have passed ... 10\n",
      "out of loop\n",
      "yooo\n",
      "you have passed ... 10\n",
      "out of loop\n",
      "yooo\n",
      "you have passed ... 10\n",
      "out of loop\n",
      "yooo\n",
      "you have passed ... 10\n",
      "out of loop\n",
      "yooo\n",
      "you have passed ... 10\n",
      "out of loop\n",
      "yooo\n",
      "you have passed ... 10\n",
      "out of loop\n",
      "yooo\n",
      "you have passed ... 10\n",
      "out of loop\n"
     ]
    }
   ],
   "source": [
    "marks=0\n",
    "\n",
    "for marks in range(100):\n",
    "    marks=marks+1\n",
    "    if marks==40:\n",
    "        print('you have failed')\n",
    "        \n",
    "        continue\n",
    "    print('yooo')  \n",
    "    print('you have passed','...',str(ctr))   \n",
    "    print('out of loop')  "
   ]
  },
  {
   "cell_type": "code",
   "execution_count": 65,
   "id": "40291731",
   "metadata": {},
   "outputs": [],
   "source": [
    "#Pass statement\n",
    "\n",
    "x='kofi'\n",
    "if x=='ama':\n",
    "    print()"
   ]
  },
  {
   "cell_type": "code",
   "execution_count": 72,
   "id": "e9fde057",
   "metadata": {},
   "outputs": [
    {
     "ename": "SyntaxError",
     "evalue": "invalid syntax (2479762845.py, line 4)",
     "output_type": "error",
     "traceback": [
      "\u001b[0;36m  File \u001b[0;32m\"/tmp/ipykernel_7462/2479762845.py\"\u001b[0;36m, line \u001b[0;32m4\u001b[0m\n\u001b[0;31m    while true\u001b[0m\n\u001b[0m              ^\u001b[0m\n\u001b[0;31mSyntaxError\u001b[0m\u001b[0;31m:\u001b[0m invalid syntax\n"
     ]
    }
   ],
   "source": [
    "#while true\n",
    "\n",
    "menu={'keyboard':'keyboadist','guitar':'guitarist','drums':'drummer','saxophone':'saxophonist'}\n",
    "while true\n",
    "menu_choice=input('what the instrument do you play')\n",
    " print(\"we don't have a\" + menu_choice)\n",
    " menu_choice=='none':\n",
    "   \n"
   ]
  },
  {
   "cell_type": "code",
   "execution_count": 81,
   "id": "05a4beea",
   "metadata": {},
   "outputs": [
    {
     "data": {
      "text/plain": [
       "'hello,you are welcome to PY4CA'"
      ]
     },
     "execution_count": 81,
     "metadata": {},
     "output_type": "execute_result"
    }
   ],
   "source": [
    "#function\n",
    "def welcome():\n",
    "    c='hello,you are welcome to PY4CA'\n",
    "    return c\n",
    "welcome()"
   ]
  },
  {
   "cell_type": "code",
   "execution_count": 95,
   "id": "039c99fc",
   "metadata": {},
   "outputs": [],
   "source": [
    "\n",
    "#dummy variables(a,b)\n",
    "\n",
    "#number=input('enter number '+' ' )\n",
    "\n",
    "def sum_of_nums(a,b):\n",
    "    c=a+b\n",
    "    return c\n",
    "\n"
   ]
  },
  {
   "cell_type": "code",
   "execution_count": 90,
   "id": "bff1296d",
   "metadata": {},
   "outputs": [],
   "source": [
    "\n",
    "    def b(a):\n",
    "        b=(a**2)+10\n",
    "\n",
    "        return b"
   ]
  },
  {
   "cell_type": "code",
   "execution_count": 91,
   "id": "4a84cd5d",
   "metadata": {},
   "outputs": [
    {
     "data": {
      "text/plain": [
       "14"
      ]
     },
     "execution_count": 91,
     "metadata": {},
     "output_type": "execute_result"
    }
   ],
   "source": [
    "b(2\n",
    " )"
   ]
  },
  {
   "cell_type": "code",
   "execution_count": 93,
   "id": "e9c3b6d6",
   "metadata": {},
   "outputs": [
    {
     "ename": "NameError",
     "evalue": "name 'c' is not defined",
     "output_type": "error",
     "traceback": [
      "\u001b[0;31m---------------------------------------------------------------------------\u001b[0m",
      "\u001b[0;31mNameError\u001b[0m                                 Traceback (most recent call last)",
      "\u001b[0;32m/tmp/ipykernel_7462/1260653678.py\u001b[0m in \u001b[0;36m<module>\u001b[0;34m\u001b[0m\n\u001b[0;32m----> 1\u001b[0;31m \u001b[0mc\u001b[0m\u001b[0;34m\u001b[0m\u001b[0;34m\u001b[0m\u001b[0m\n\u001b[0m",
      "\u001b[0;31mNameError\u001b[0m: name 'c' is not defined"
     ]
    }
   ],
   "source": [
    "c\n"
   ]
  },
  {
   "cell_type": "code",
   "execution_count": 94,
   "id": "0e6ae469",
   "metadata": {},
   "outputs": [
    {
     "ename": "NameError",
     "evalue": "name 'c' is not defined",
     "output_type": "error",
     "traceback": [
      "\u001b[0;31m---------------------------------------------------------------------------\u001b[0m",
      "\u001b[0;31mNameError\u001b[0m                                 Traceback (most recent call last)",
      "\u001b[0;32m/tmp/ipykernel_7462/3512948670.py\u001b[0m in \u001b[0;36m<module>\u001b[0;34m\u001b[0m\n\u001b[0;32m----> 1\u001b[0;31m \u001b[0mc\u001b[0m\u001b[0;34m(\u001b[0m\u001b[0;36m1\u001b[0m\u001b[0;34m,\u001b[0m\u001b[0;36m2\u001b[0m\u001b[0;34m)\u001b[0m\u001b[0;34m\u001b[0m\u001b[0;34m\u001b[0m\u001b[0m\n\u001b[0m",
      "\u001b[0;31mNameError\u001b[0m: name 'c' is not defined"
     ]
    }
   ],
   "source": [
    "c(1,2)"
   ]
  },
  {
   "cell_type": "code",
   "execution_count": 96,
   "id": "bf418871",
   "metadata": {},
   "outputs": [
    {
     "data": {
      "text/plain": [
       "3"
      ]
     },
     "execution_count": 96,
     "metadata": {},
     "output_type": "execute_result"
    }
   ],
   "source": [
    "sum_of_nums(1,2\n",
    "           )"
   ]
  },
  {
   "cell_type": "code",
   "execution_count": 99,
   "id": "3f9248a1",
   "metadata": {},
   "outputs": [],
   "source": [
    "#potential potential calculator\n",
    "def potential_temperature(T,P0,P1):\n",
    "    P=P0/P1\n",
    "    EXPO=0.200\n",
    "    answer=T*P**EXPO\n",
    "    return answer\n"
   ]
  },
  {
   "cell_type": "code",
   "execution_count": 98,
   "id": "60b56c73",
   "metadata": {},
   "outputs": [
    {
     "data": {
      "text/plain": [
       "0.9221079114817278"
      ]
     },
     "execution_count": 98,
     "metadata": {},
     "output_type": "execute_result"
    }
   ],
   "source": [
    "potential_temperature(1,2,3)"
   ]
  },
  {
   "cell_type": "code",
   "execution_count": 116,
   "id": "a8e5d2f5",
   "metadata": {},
   "outputs": [],
   "source": [
    "def potential_temperature(T,P0,P1,units):\n",
    "    \n",
    "    if units.upper=='C' or units.upper()=='CELCIUS':\n",
    "        \n",
    "          \n",
    "        T=T+273.16\n",
    "        #answer=answer-273.16\n",
    "        \n",
    "        P=P0/P1\n",
    "    \n",
    "        answer=T*P**0.0200\n",
    "    \n",
    "    elif units.upper=='K' or units.upper()=='KELVIN':\n",
    "        \n",
    "        answer=T*P**0.0200\n",
    "        \n",
    "    return answer"
   ]
  },
  {
   "cell_type": "code",
   "execution_count": 120,
   "id": "715972ad",
   "metadata": {},
   "outputs": [
    {
     "data": {
      "text/plain": [
       "314.0502809347234"
      ]
     },
     "execution_count": 120,
     "metadata": {},
     "output_type": "execute_result"
    }
   ],
   "source": [
    "potential_temperature(28,1000,123,\"CELCIUS\")"
   ]
  },
  {
   "cell_type": "code",
   "execution_count": 1,
   "id": "806f1219",
   "metadata": {},
   "outputs": [],
   "source": [
    "#looping within functions\n",
    " #building the function\n",
    "    #def test(x,max_x,x_interval):\n",
    "       # while(x<max_x)\n",
    "       # print(x)"
   ]
  },
  {
   "cell_type": "code",
   "execution_count": 122,
   "id": "bf40c3c1",
   "metadata": {},
   "outputs": [
    {
     "data": {
      "text/plain": [
       "25"
      ]
     },
     "execution_count": 122,
     "metadata": {},
     "output_type": "execute_result"
    }
   ],
   "source": [
    "#LAMBDA EXPRESSION\n",
    "\n",
    "square = lambda x:x**2\n",
    "square(5)"
   ]
  },
  {
   "cell_type": "code",
   "execution_count": 3,
   "id": "398c36a4",
   "metadata": {},
   "outputs": [],
   "source": [
    "def area(a,b):\n",
    "    c=0.5*a*b\n",
    "\n",
    "    return c\n"
   ]
  },
  {
   "cell_type": "code",
   "execution_count": 4,
   "id": "6cac3d74",
   "metadata": {},
   "outputs": [
    {
     "data": {
      "text/plain": [
       "2.0"
      ]
     },
     "execution_count": 4,
     "metadata": {},
     "output_type": "execute_result"
    }
   ],
   "source": [
    "area(2,2)"
   ]
  },
  {
   "cell_type": "code",
   "execution_count": 6,
   "id": "8ce55144",
   "metadata": {},
   "outputs": [],
   "source": [
    "\n",
    "triangle=lambda a,b:0.5*a*b"
   ]
  },
  {
   "cell_type": "code",
   "execution_count": 7,
   "id": "55a8944d",
   "metadata": {},
   "outputs": [
    {
     "data": {
      "text/plain": [
       "2.0"
      ]
     },
     "execution_count": 7,
     "metadata": {},
     "output_type": "execute_result"
    }
   ],
   "source": [
    "triangle(2,2)"
   ]
  },
  {
   "cell_type": "raw",
   "id": "7669abc8",
   "metadata": {},
   "source": []
  },
  {
   "cell_type": "code",
   "execution_count": 15,
   "id": "1ac7f48b",
   "metadata": {},
   "outputs": [
    {
     "ename": "SyntaxError",
     "evalue": "invalid syntax (595401913.py, line 10)",
     "output_type": "error",
     "traceback": [
      "\u001b[0;36m  File \u001b[0;32m\"/tmp/ipykernel_4754/595401913.py\"\u001b[0;36m, line \u001b[0;32m10\u001b[0m\n\u001b[0;31m    print(0.5,'*',b1,'='Z)\u001b[0m\n\u001b[0m                        ^\u001b[0m\n\u001b[0;31mSyntaxError\u001b[0m\u001b[0;31m:\u001b[0m invalid syntax\n"
     ]
    }
   ],
   "source": [
    "A=[1,2,3,4,5,6,7,8,9,10]\n",
    "B=[1,2,3,4,5,6,7,8,9,10]\n",
    "\n",
    "      for a1 in A:\n",
    "    \n",
    "       for b1 in :\n",
    "    \n",
    "    print(0.5,'*',\"b1\",'=',\"z\")\n"
   ]
  },
  {
   "cell_type": "code",
   "execution_count": 17,
   "id": "e5ff818e",
   "metadata": {},
   "outputs": [],
   "source": [
    "#import\n",
    "import numpy as np"
   ]
  },
  {
   "cell_type": "code",
   "execution_count": 20,
   "id": "36ce6c2a",
   "metadata": {},
   "outputs": [
    {
     "data": {
      "text/plain": [
       "3"
      ]
     },
     "execution_count": 20,
     "metadata": {},
     "output_type": "execute_result"
    }
   ],
   "source": [
    "a= [1,2]\n",
    "np.sum(a)\n"
   ]
  },
  {
   "cell_type": "code",
   "execution_count": 21,
   "id": "9f315867",
   "metadata": {},
   "outputs": [],
   "source": [
    "#round=round it\n",
    "#arange=arrange it\n",
    "#transpose(t)=changing de inverse,needs an array\n",
    "#converting list to array, np.asarray\n",
    "\n",
    "#scipy=gradient and slopes,rounding number too\n"
   ]
  },
  {
   "cell_type": "code",
   "execution_count": 45,
   "id": "87fd3f75",
   "metadata": {},
   "outputs": [],
   "source": [
    "#VISUALISING DATA\n",
    "\n",
    "#plotting=matplotlib\n",
    "#import matplotlib as mtp,import matplotlib.pyplot as plt,from matplotlib import pyplot as plt\n",
    "\n",
    "#plotting\n",
    "import matplotlib.pyplot as plt"
   ]
  },
  {
   "cell_type": "code",
   "execution_count": null,
   "id": "33fc56da",
   "metadata": {},
   "outputs": [],
   "source": []
  },
  {
   "cell_type": "code",
   "execution_count": 48,
   "id": "bb237d00",
   "metadata": {},
   "outputs": [],
   "source": [
    "b=np.arange(1,41)\n",
    "c=np.arange(1,366,2)\n"
   ]
  },
  {
   "cell_type": "code",
   "execution_count": 49,
   "id": "5c6344c9",
   "metadata": {},
   "outputs": [
    {
     "name": "stdout",
     "output_type": "stream",
     "text": [
      "[  1   3   5   7   9  11  13  15  17  19  21  23  25  27  29  31  33  35\n",
      "  37  39  41  43  45  47  49  51  53  55  57  59  61  63  65  67  69  71\n",
      "  73  75  77  79  81  83  85  87  89  91  93  95  97  99 101 103 105 107\n",
      " 109 111 113 115 117 119 121 123 125 127 129 131 133 135 137 139 141 143\n",
      " 145 147 149 151 153 155 157 159 161 163 165 167 169 171 173 175 177 179\n",
      " 181 183 185 187 189 191 193 195 197 199 201 203 205 207 209 211 213 215\n",
      " 217 219 221 223 225 227 229 231 233 235 237 239 241 243 245 247 249 251\n",
      " 253 255 257 259 261 263 265 267 269 271 273 275 277 279 281 283 285 287\n",
      " 289 291 293 295 297 299 301 303 305 307 309 311 313 315 317 319 321 323\n",
      " 325 327 329 331 333 335 337 339 341 343 345 347 349 351 353 355 357 359\n",
      " 361 363 365]\n"
     ]
    }
   ],
   "source": [
    "print(c)"
   ]
  },
  {
   "cell_type": "code",
   "execution_count": 50,
   "id": "0a16f0ad",
   "metadata": {},
   "outputs": [
    {
     "name": "stdout",
     "output_type": "stream",
     "text": [
      "[  1   3   5   7   9  11  13  15  17  19  21  23  25  27  29  31  33  35\n",
      "  37  39  41  43  45  47  49  51  53  55  57  59  61  63  65  67  69  71\n",
      "  73  75  77  79  81  83  85  87  89  91  93  95  97  99 101 103 105 107\n",
      " 109 111 113 115 117 119 121 123 125 127 129 131 133 135 137 139 141 143\n",
      " 145 147 149 151 153 155 157 159 161 163 165 167 169 171 173 175 177 179\n",
      " 181 183 185 187 189 191 193 195 197 199 201 203 205 207 209 211 213 215\n",
      " 217 219 221 223 225 227 229 231 233 235 237 239 241 243 245 247 249 251\n",
      " 253 255 257 259 261 263 265 267 269 271 273 275 277 279 281 283 285 287\n",
      " 289 291 293 295 297 299 301 303 305 307 309 311 313 315 317 319 321 323\n",
      " 325 327 329 331 333 335 337 339 341 343 345 347 349 351 353 355 357 359\n",
      " 361 363 365]\n"
     ]
    }
   ],
   "source": [
    "print(c)"
   ]
  },
  {
   "cell_type": "code",
   "execution_count": 56,
   "id": "9552aeaa",
   "metadata": {},
   "outputs": [
    {
     "data": {
      "text/plain": [
       "[<matplotlib.lines.Line2D at 0x7f9f18ccdac0>]"
      ]
     },
     "execution_count": 56,
     "metadata": {},
     "output_type": "execute_result"
    },
    {
     "data": {
      "image/png": "[encoded data removed]",
      "text/plain": [
       "<Figure size 432x288 with 1 Axes>"
      ]
     },
     "metadata": {
      "needs_background": "light"
     },
     "output_type": "display_data"
    }
   ],
   "source": [
    "plt.plot(c)"
   ]
  },
  {
   "cell_type": "code",
   "execution_count": 55,
   "id": "feb21798",
   "metadata": {},
   "outputs": [
    {
     "ename": "ValueError",
     "evalue": "x and y must have same first dimension, but have shapes (183,) and (40,)",
     "output_type": "error",
     "traceback": [
      "\u001b[0;31m---------------------------------------------------------------------------\u001b[0m",
      "\u001b[0;31mValueError\u001b[0m                                Traceback (most recent call last)",
      "\u001b[0;32m/tmp/ipykernel_4754/2446459634.py\u001b[0m in \u001b[0;36m<module>\u001b[0;34m\u001b[0m\n\u001b[0;32m----> 1\u001b[0;31m \u001b[0mplt\u001b[0m\u001b[0;34m.\u001b[0m\u001b[0mplot\u001b[0m\u001b[0;34m(\u001b[0m\u001b[0mc\u001b[0m\u001b[0;34m,\u001b[0m\u001b[0mb\u001b[0m\u001b[0;34m)\u001b[0m\u001b[0;34m\u001b[0m\u001b[0;34m\u001b[0m\u001b[0m\n\u001b[0m",
      "\u001b[0;32m~/anaconda3/lib/python3.9/site-packages/matplotlib/pyplot.py\u001b[0m in \u001b[0;36mplot\u001b[0;34m(scalex, scaley, data, *args, **kwargs)\u001b[0m\n\u001b[1;32m   3017\u001b[0m \u001b[0;34m@\u001b[0m\u001b[0m_copy_docstring_and_deprecators\u001b[0m\u001b[0;34m(\u001b[0m\u001b[0mAxes\u001b[0m\u001b[0;34m.\u001b[0m\u001b[0mplot\u001b[0m\u001b[0;34m)\u001b[0m\u001b[0;34m\u001b[0m\u001b[0;34m\u001b[0m\u001b[0m\n\u001b[1;32m   3018\u001b[0m \u001b[0;32mdef\u001b[0m \u001b[0mplot\u001b[0m\u001b[0;34m(\u001b[0m\u001b[0;34m*\u001b[0m\u001b[0margs\u001b[0m\u001b[0;34m,\u001b[0m \u001b[0mscalex\u001b[0m\u001b[0;34m=\u001b[0m\u001b[0;32mTrue\u001b[0m\u001b[0;34m,\u001b[0m \u001b[0mscaley\u001b[0m\u001b[0;34m=\u001b[0m\u001b[0;32mTrue\u001b[0m\u001b[0;34m,\u001b[0m \u001b[0mdata\u001b[0m\u001b[0;34m=\u001b[0m\u001b[0;32mNone\u001b[0m\u001b[0;34m,\u001b[0m \u001b[0;34m**\u001b[0m\u001b[0mkwargs\u001b[0m\u001b[0;34m)\u001b[0m\u001b[0;34m:\u001b[0m\u001b[0;34m\u001b[0m\u001b[0;34m\u001b[0m\u001b[0m\n\u001b[0;32m-> 3019\u001b[0;31m     return gca().plot(\n\u001b[0m\u001b[1;32m   3020\u001b[0m         \u001b[0;34m*\u001b[0m\u001b[0margs\u001b[0m\u001b[0;34m,\u001b[0m \u001b[0mscalex\u001b[0m\u001b[0;34m=\u001b[0m\u001b[0mscalex\u001b[0m\u001b[0;34m,\u001b[0m \u001b[0mscaley\u001b[0m\u001b[0;34m=\u001b[0m\u001b[0mscaley\u001b[0m\u001b[0;34m,\u001b[0m\u001b[0;34m\u001b[0m\u001b[0;34m\u001b[0m\u001b[0m\n\u001b[1;32m   3021\u001b[0m         **({\"data\": data} if data is not None else {}), **kwargs)\n",
      "\u001b[0;32m~/anaconda3/lib/python3.9/site-packages/matplotlib/axes/_axes.py\u001b[0m in \u001b[0;36mplot\u001b[0;34m(self, scalex, scaley, data, *args, **kwargs)\u001b[0m\n\u001b[1;32m   1603\u001b[0m         \"\"\"\n\u001b[1;32m   1604\u001b[0m         \u001b[0mkwargs\u001b[0m \u001b[0;34m=\u001b[0m \u001b[0mcbook\u001b[0m\u001b[0;34m.\u001b[0m\u001b[0mnormalize_kwargs\u001b[0m\u001b[0;34m(\u001b[0m\u001b[0mkwargs\u001b[0m\u001b[0;34m,\u001b[0m \u001b[0mmlines\u001b[0m\u001b[0;34m.\u001b[0m\u001b[0mLine2D\u001b[0m\u001b[0;34m)\u001b[0m\u001b[0;34m\u001b[0m\u001b[0;34m\u001b[0m\u001b[0m\n\u001b[0;32m-> 1605\u001b[0;31m         \u001b[0mlines\u001b[0m \u001b[0;34m=\u001b[0m \u001b[0;34m[\u001b[0m\u001b[0;34m*\u001b[0m\u001b[0mself\u001b[0m\u001b[0;34m.\u001b[0m\u001b[0m_get_lines\u001b[0m\u001b[0;34m(\u001b[0m\u001b[0;34m*\u001b[0m\u001b[0margs\u001b[0m\u001b[0;34m,\u001b[0m \u001b[0mdata\u001b[0m\u001b[0;34m=\u001b[0m\u001b[0mdata\u001b[0m\u001b[0;34m,\u001b[0m \u001b[0;34m**\u001b[0m\u001b[0mkwargs\u001b[0m\u001b[0;34m)\u001b[0m\u001b[0;34m]\u001b[0m\u001b[0;34m\u001b[0m\u001b[0;34m\u001b[0m\u001b[0m\n\u001b[0m\u001b[1;32m   1606\u001b[0m         \u001b[0;32mfor\u001b[0m \u001b[0mline\u001b[0m \u001b[0;32min\u001b[0m \u001b[0mlines\u001b[0m\u001b[0;34m:\u001b[0m\u001b[0;34m\u001b[0m\u001b[0;34m\u001b[0m\u001b[0m\n\u001b[1;32m   1607\u001b[0m             \u001b[0mself\u001b[0m\u001b[0;34m.\u001b[0m\u001b[0madd_line\u001b[0m\u001b[0;34m(\u001b[0m\u001b[0mline\u001b[0m\u001b[0;34m)\u001b[0m\u001b[0;34m\u001b[0m\u001b[0;34m\u001b[0m\u001b[0m\n",
      "\u001b[0;32m~/anaconda3/lib/python3.9/site-packages/matplotlib/axes/_base.py\u001b[0m in \u001b[0;36m__call__\u001b[0;34m(self, data, *args, **kwargs)\u001b[0m\n\u001b[1;32m    313\u001b[0m                 \u001b[0mthis\u001b[0m \u001b[0;34m+=\u001b[0m \u001b[0margs\u001b[0m\u001b[0;34m[\u001b[0m\u001b[0;36m0\u001b[0m\u001b[0;34m]\u001b[0m\u001b[0;34m,\u001b[0m\u001b[0;34m\u001b[0m\u001b[0;34m\u001b[0m\u001b[0m\n\u001b[1;32m    314\u001b[0m                 \u001b[0margs\u001b[0m \u001b[0;34m=\u001b[0m \u001b[0margs\u001b[0m\u001b[0;34m[\u001b[0m\u001b[0;36m1\u001b[0m\u001b[0;34m:\u001b[0m\u001b[0;34m]\u001b[0m\u001b[0;34m\u001b[0m\u001b[0;34m\u001b[0m\u001b[0m\n\u001b[0;32m--> 315\u001b[0;31m             \u001b[0;32myield\u001b[0m \u001b[0;32mfrom\u001b[0m \u001b[0mself\u001b[0m\u001b[0;34m.\u001b[0m\u001b[0m_plot_args\u001b[0m\u001b[0;34m(\u001b[0m\u001b[0mthis\u001b[0m\u001b[0;34m,\u001b[0m \u001b[0mkwargs\u001b[0m\u001b[0;34m)\u001b[0m\u001b[0;34m\u001b[0m\u001b[0;34m\u001b[0m\u001b[0m\n\u001b[0m\u001b[1;32m    316\u001b[0m \u001b[0;34m\u001b[0m\u001b[0m\n\u001b[1;32m    317\u001b[0m     \u001b[0;32mdef\u001b[0m \u001b[0mget_next_color\u001b[0m\u001b[0;34m(\u001b[0m\u001b[0mself\u001b[0m\u001b[0;34m)\u001b[0m\u001b[0;34m:\u001b[0m\u001b[0;34m\u001b[0m\u001b[0;34m\u001b[0m\u001b[0m\n",
      "\u001b[0;32m~/anaconda3/lib/python3.9/site-packages/matplotlib/axes/_base.py\u001b[0m in \u001b[0;36m_plot_args\u001b[0;34m(self, tup, kwargs, return_kwargs)\u001b[0m\n\u001b[1;32m    499\u001b[0m \u001b[0;34m\u001b[0m\u001b[0m\n\u001b[1;32m    500\u001b[0m         \u001b[0;32mif\u001b[0m \u001b[0mx\u001b[0m\u001b[0;34m.\u001b[0m\u001b[0mshape\u001b[0m\u001b[0;34m[\u001b[0m\u001b[0;36m0\u001b[0m\u001b[0;34m]\u001b[0m \u001b[0;34m!=\u001b[0m \u001b[0my\u001b[0m\u001b[0;34m.\u001b[0m\u001b[0mshape\u001b[0m\u001b[0;34m[\u001b[0m\u001b[0;36m0\u001b[0m\u001b[0;34m]\u001b[0m\u001b[0;34m:\u001b[0m\u001b[0;34m\u001b[0m\u001b[0;34m\u001b[0m\u001b[0m\n\u001b[0;32m--> 501\u001b[0;31m             raise ValueError(f\"x and y must have same first dimension, but \"\n\u001b[0m\u001b[1;32m    502\u001b[0m                              f\"have shapes {x.shape} and {y.shape}\")\n\u001b[1;32m    503\u001b[0m         \u001b[0;32mif\u001b[0m \u001b[0mx\u001b[0m\u001b[0;34m.\u001b[0m\u001b[0mndim\u001b[0m \u001b[0;34m>\u001b[0m \u001b[0;36m2\u001b[0m \u001b[0;32mor\u001b[0m \u001b[0my\u001b[0m\u001b[0;34m.\u001b[0m\u001b[0mndim\u001b[0m \u001b[0;34m>\u001b[0m \u001b[0;36m2\u001b[0m\u001b[0;34m:\u001b[0m\u001b[0;34m\u001b[0m\u001b[0;34m\u001b[0m\u001b[0m\n",
      "\u001b[0;31mValueError\u001b[0m: x and y must have same first dimension, but have shapes (183,) and (40,)"
     ]
    },
    {
     "data": {
      "image/png": "[encoded data removed]",
      "text/plain": [
       "<Figure size 432x288 with 1 Axes>"
      ]
     },
     "metadata": {
      "needs_background": "light"
     },
     "output_type": "display_data"
    }
   ],
   "source": [
    "plt.plot(c,b)"
   ]
  },
  {
   "cell_type": "code",
   "execution_count": 57,
   "id": "4cb99ae5",
   "metadata": {},
   "outputs": [],
   "source": [
    "#equal dimentions are required for the plotting\n",
    "\n"
   ]
  },
  {
   "cell_type": "code",
   "execution_count": 70,
   "id": "5cc887d3",
   "metadata": {},
   "outputs": [],
   "source": [
    "%matplotlib inline"
   ]
  },
  {
   "cell_type": "code",
   "execution_count": 78,
   "id": "ada2b5eb",
   "metadata": {},
   "outputs": [],
   "source": [
    "a=np.random.rand(200)\n",
    "b=np.random.rand(200)\n"
   ]
  },
  {
   "cell_type": "code",
   "execution_count": 79,
   "id": "7f6167ea",
   "metadata": {},
   "outputs": [
    {
     "data": {
      "text/plain": [
       "[<matplotlib.lines.Line2D at 0x7f9f18d97520>]"
      ]
     },
     "execution_count": 79,
     "metadata": {},
     "output_type": "execute_result"
    },
    {
     "data": {
      "image/png": "[encoded data removed]",
      "text/plain": [
       "<Figure size 432x288 with 1 Axes>"
      ]
     },
     "metadata": {
      "needs_background": "light"
     },
     "output_type": "display_data"
    }
   ],
   "source": [
    "plt.plot(a)"
   ]
  },
  {
   "cell_type": "code",
   "execution_count": 65,
   "id": "500de38e",
   "metadata": {},
   "outputs": [],
   "source": [
    "# %matplotlib inline=corrects graph issues(it place it in line)"
   ]
  },
  {
   "cell_type": "code",
   "execution_count": 82,
   "id": "1db97bb0",
   "metadata": {},
   "outputs": [
    {
     "data": {
      "text/plain": [
       "[<matplotlib.lines.Line2D at 0x7f9f189e0d30>]"
      ]
     },
     "execution_count": 82,
     "metadata": {},
     "output_type": "execute_result"
    },
    {
     "data": {
      "image/png": "[encoded data removed]",
      "text/plain": [
       "<Figure size 432x288 with 1 Axes>"
      ]
     },
     "metadata": {
      "needs_background": "light"
     },
     "output_type": "display_data"
    }
   ],
   "source": [
    "a=np.arange(0,361)\n",
    "b=np.sin(np.deg2rad(a))\n",
    "plt.plot(a,b)"
   ]
  },
  {
   "cell_type": "code",
   "execution_count": 86,
   "id": "542a8e19",
   "metadata": {},
   "outputs": [
    {
     "ename": "SyntaxError",
     "evalue": "invalid syntax (70648860.py, line 4)",
     "output_type": "error",
     "traceback": [
      "\u001b[0;36m  File \u001b[0;32m\"/tmp/ipykernel_4754/70648860.py\"\u001b[0;36m, line \u001b[0;32m4\u001b[0m\n\u001b[0;31m    plt.plot(a,b,label'sin')\u001b[0m\n\u001b[0m                      ^\u001b[0m\n\u001b[0;31mSyntaxError\u001b[0m\u001b[0;31m:\u001b[0m invalid syntax\n"
     ]
    }
   ],
   "source": [
    "a=np.arange(0,361)\n",
    "b=np.sin(np.deg2rad(a))\n",
    "c=np.sin(np.deg2rad(a))\n",
    "plt.plot(a,b,label'sin')\n",
    "plt.plot(a,c,label'cos')\n",
    "#color and other stuffs=plt.legend()\n",
    "#plt.xlabel('')\n",
    "#plt.ylabel('')\n",
    "#plt.xlabel('')\n",
    "#plt.xlim('')=limit\n",
    "#font weight,font size"
   ]
  },
  {
   "cell_type": "code",
   "execution_count": 93,
   "id": "5a8861b2",
   "metadata": {},
   "outputs": [],
   "source": [
    "#reading a data set in python\n",
    "#1st way\n",
    "atext=np.loadtxt('/home/ell/Desktop/Kumasi_1983_2017_dRR_gapless.txt')"
   ]
  },
  {
   "cell_type": "code",
   "execution_count": 94,
   "id": "e64b122e",
   "metadata": {},
   "outputs": [
    {
     "data": {
      "text/plain": [
       "array([[1.983e+03, 1.000e+00, 1.000e+00, 0.000e+00],\n",
       "       [1.983e+03, 1.000e+00, 2.000e+00, 0.000e+00],\n",
       "       [1.983e+03, 1.000e+00, 3.000e+00, 0.000e+00],\n",
       "       ...,\n",
       "       [2.017e+03, 1.200e+01, 2.900e+01, 0.000e+00],\n",
       "       [2.017e+03, 1.200e+01, 3.000e+01, 0.000e+00],\n",
       "       [2.017e+03, 1.200e+01, 3.100e+01, 0.000e+00]])"
      ]
     },
     "execution_count": 94,
     "metadata": {},
     "output_type": "execute_result"
    }
   ],
   "source": [
    "atext"
   ]
  },
  {
   "cell_type": "code",
   "execution_count": 95,
   "id": "17c7a3bb",
   "metadata": {},
   "outputs": [
    {
     "data": {
      "text/plain": [
       "numpy.ndarray"
      ]
     },
     "execution_count": 95,
     "metadata": {},
     "output_type": "execute_result"
    }
   ],
   "source": [
    "type(atext)"
   ]
  },
  {
   "cell_type": "code",
   "execution_count": 97,
   "id": "e55d6517",
   "metadata": {},
   "outputs": [],
   "source": [
    "#2nd way\n",
    "folder=('/home/ell/Desktop/')\n",
    "#data-path=path"
   ]
  },
  {
   "cell_type": "code",
   "execution_count": 101,
   "id": "4981d1bb",
   "metadata": {},
   "outputs": [],
   "source": [
    "from pathlib import Path"
   ]
  },
  {
   "cell_type": "code",
   "execution_count": 102,
   "id": "8b8083a7",
   "metadata": {},
   "outputs": [
    {
     "data": {
      "text/plain": [
       "pathlib.Path"
      ]
     },
     "execution_count": 102,
     "metadata": {},
     "output_type": "execute_result"
    }
   ],
   "source": [
    "Path"
   ]
  },
  {
   "cell_type": "code",
   "execution_count": 103,
   "id": "b0c1c9c1",
   "metadata": {},
   "outputs": [
    {
     "data": {
      "text/plain": [
       "array([1.983e+03, 1.000e+00, 1.000e+00, 0.000e+00])"
      ]
     },
     "execution_count": 103,
     "metadata": {},
     "output_type": "execute_result"
    }
   ],
   "source": [
    "atext[0]"
   ]
  },
  {
   "cell_type": "code",
   "execution_count": 115,
   "id": "93bc47a3",
   "metadata": {},
   "outputs": [
    {
     "data": {
      "text/plain": [
       "0.3"
      ]
     },
     "execution_count": 115,
     "metadata": {},
     "output_type": "execute_result"
    }
   ],
   "source": [
    "atext[150,3]"
   ]
  },
  {
   "cell_type": "code",
   "execution_count": 124,
   "id": "5c922c36",
   "metadata": {},
   "outputs": [
    {
     "name": "stdout",
     "output_type": "stream",
     "text": [
      "[ 8.  9. 10. 11. 12. 13. 14. 15. 16. 17. 18. 19. 20. 21. 22. 23. 24. 25.\n",
      " 26. 27. 28. 29. 30. 31.  1.  2.  3.  4.  5.  6.  7.  8.  9. 10. 11. 12.\n",
      " 13. 14. 15. 16. 17. 18. 19. 20. 21. 22. 23. 24. 25. 26. 27. 28.  1.  2.\n",
      "  3.  4.  5.  6.  7.  8.  9. 10. 11. 12. 13. 14. 15. 16. 17. 18. 19. 20.\n",
      " 21. 22. 23. 24. 25. 26. 27. 28. 29. 30. 31.  1.  2.  3.  4.  5.  6.  7.\n",
      "  8.  9. 10. 11. 12. 13. 14. 15. 16. 17. 18. 19. 20. 21. 22. 23. 24. 25.\n",
      " 26. 27. 28. 29. 30.  1.  2.  3.  4.  5.  6.  7.  8.  9. 10. 11. 12. 13.\n",
      " 14. 15. 16. 17. 18. 19. 20. 21. 22. 23. 24. 25. 26. 27. 28. 29. 30. 31.\n",
      "  1.  2.  3.  4.  5.  6.  7.  8.  9. 10. 11. 12. 13. 14. 15. 16. 17. 18.\n",
      " 19. 20. 21. 22. 23. 24. 25. 26. 27. 28. 29. 30.  1.  2.  3.  4.  5.  6.\n",
      "  7.  8.  9. 10. 11. 12. 13. 14. 15. 16. 17. 18. 19. 20. 21. 22. 23. 24.\n",
      " 25. 26. 27. 28. 29. 30. 31.  1.  2.  3.  4.  5.  6.  7.  8.  9. 10. 11.\n",
      " 12. 13. 14. 15. 16. 17. 18. 19. 20. 21. 22. 23. 24. 25. 26. 27. 28. 29.\n",
      " 30. 31.  1.  2.  3.  4.  5.  6.  7.  8.  9. 10. 11. 12. 13. 14. 15. 16.\n",
      " 17. 18. 19. 20. 21. 22. 23. 24. 25. 26. 27. 28. 29. 30.  1.  2.  3.  4.\n",
      "  5.  6.  7.  8.  9. 10. 11. 12. 13. 14. 15. 16. 17. 18. 19. 20. 21. 22.\n",
      " 23. 24. 25. 26. 27. 28. 29. 30. 31.  1.  2.  3.  4.  5.  6.  7.  8.  9.\n",
      " 10. 11. 12. 13. 14. 15. 16. 17. 18. 19. 20. 21. 22. 23. 24. 25. 26. 27.\n",
      " 28. 29. 30.  1.  2.  3.  4.  5.  6.  7.  8.  9. 10. 11. 12. 13. 14. 15.\n",
      " 16. 17. 18. 19. 20. 21. 22. 23. 24. 25. 26. 27. 28. 29. 30. 31.  1.  2.\n",
      "  3.  4.  5.  6.  7.  8.  9. 10. 11. 12. 13. 14. 15. 16. 17. 18. 19. 20.\n",
      " 21. 22. 23. 24. 25. 26. 27. 28. 29. 30. 31.  1.  2.  3.  4.  5.  6.  7.\n",
      "  8.  9. 10. 11. 12. 13. 14. 15. 16. 17. 18. 19. 20. 21. 22. 23. 24. 25.\n",
      " 26. 27. 28. 29.  1.  2.  3.  4.  5.  6.  7.  8.  9. 10. 11. 12. 13. 14.\n",
      " 15. 16. 17. 18. 19. 20. 21. 22. 23. 24. 25. 26. 27. 28. 29. 30. 31.  1.\n",
      "  2.  3.  4.  5.  6.  7.  8.  9. 10. 11. 12. 13. 14. 15. 16. 17. 18. 19.\n",
      " 20. 21. 22. 23. 24. 25. 26. 27. 28. 29. 30.  1.  2.  3.  4.  5.  6.  7.\n",
      "  8.  9. 10. 11. 12. 13. 14. 15. 16. 17. 18. 19. 20. 21. 22. 23. 24. 25.\n",
      " 26. 27. 28. 29. 30. 31.  1.  2.  3.  4.  5.  6.  7.  8.  9. 10. 11. 12.\n",
      " 13. 14. 15. 16. 17. 18. 19. 20. 21. 22. 23. 24. 25. 26. 27. 28. 29. 30.\n",
      "  1.  2.  3.  4.  5.  6.  7.  8.  9. 10. 11. 12. 13. 14. 15. 16. 17. 18.\n",
      " 19. 20. 21. 22. 23. 24. 25. 26. 27. 28. 29. 30. 31.  1.  2.  3.  4.  5.\n",
      "  6.  7.  8.  9. 10. 11. 12. 13. 14. 15. 16. 17. 18. 19. 20. 21. 22. 23.\n",
      " 24. 25. 26. 27. 28. 29. 30. 31.  1.  2.  3.  4.  5.  6.  7.  8.  9. 10.\n",
      " 11. 12. 13. 14. 15. 16. 17. 18. 19. 20. 21. 22. 23. 24. 25. 26. 27. 28.\n",
      " 29. 30.  1.  2.  3.  4.  5.  6.  7.  8.  9. 10. 11. 12. 13. 14. 15. 16.\n",
      " 17. 18. 19. 20. 21. 22. 23. 24. 25. 26. 27. 28. 29. 30. 31.  1.  2.  3.\n",
      "  4.  5.  6.  7.  8.  9. 10. 11. 12. 13. 14. 15. 16. 17. 18. 19. 20. 21.\n",
      " 22. 23. 24. 25. 26. 27. 28. 29. 30.  1.  2.  3.  4.  5.  6.  7.  8.  9.\n",
      " 10. 11. 12. 13. 14. 15. 16. 17. 18. 19. 20. 21. 22. 23. 24. 25. 26. 27.\n",
      " 28. 29. 30. 31.  1.  2.  3.  4.  5.  6.  7.  8.  9. 10. 11. 12. 13. 14.\n",
      " 15. 16. 17. 18. 19. 20. 21. 22. 23. 24. 25. 26. 27. 28. 29. 30. 31.  1.\n",
      "  2.  3.  4.  5.  6.  7.  8.  9. 10. 11. 12. 13. 14. 15. 16. 17. 18. 19.\n",
      " 20. 21. 22. 23. 24. 25. 26. 27. 28.  1.  2.  3.  4.  5.  6.  7.  8.  9.\n",
      " 10. 11. 12. 13. 14. 15. 16. 17. 18. 19. 20. 21. 22. 23. 24. 25. 26. 27.\n",
      " 28. 29. 30. 31.  1.  2.  3.  4.  5.  6.  7.  8.  9. 10. 11. 12. 13. 14.\n",
      " 15. 16. 17. 18. 19. 20. 21. 22. 23. 24. 25. 26. 27. 28. 29. 30.  1.  2.\n",
      "  3.  4.  5.  6.  7.  8.  9. 10. 11. 12. 13. 14. 15. 16. 17. 18. 19. 20.\n",
      " 21. 22. 23. 24. 25. 26. 27. 28. 29. 30. 31.  1.  2.  3.  4.  5.  6.  7.\n",
      "  8.  9. 10. 11. 12. 13. 14. 15. 16. 17. 18. 19. 20. 21. 22. 23. 24. 25.\n",
      " 26. 27. 28. 29. 30.  1.  2.  3.  4.  5.  6.  7.  8.  9. 10. 11. 12. 13.\n",
      " 14. 15. 16. 17. 18. 19. 20. 21. 22. 23. 24. 25. 26. 27. 28. 29. 30. 31.\n",
      "  1.  2.  3.  4.  5.  6.  7.  8.  9. 10. 11. 12. 13. 14. 15. 16. 17. 18.\n",
      " 19. 20. 21. 22. 23. 24. 25. 26. 27. 28. 29. 30. 31.  1.  2.  3.  4.  5.\n",
      "  6.  7.  8.  9. 10. 11. 12. 13. 14. 15. 16. 17. 18. 19. 20. 21. 22. 23.\n",
      " 24. 25. 26.]\n"
     ]
    }
   ],
   "source": [
    "print(atext[7:1000,2])"
   ]
  },
  {
   "cell_type": "code",
   "execution_count": 121,
   "id": "1c63b4ca",
   "metadata": {},
   "outputs": [
    {
     "data": {
      "text/plain": [
       "array([1983., 1983., 1983.])"
      ]
     },
     "execution_count": 121,
     "metadata": {},
     "output_type": "execute_result"
    }
   ],
   "source": [
    "atext[7:10,0]\n"
   ]
  },
  {
   "cell_type": "code",
   "execution_count": 125,
   "id": "b4c19f71",
   "metadata": {},
   "outputs": [
    {
     "data": {
      "text/plain": [
       "2017.0"
      ]
     },
     "execution_count": 125,
     "metadata": {},
     "output_type": "execute_result"
    }
   ],
   "source": [
    "np.max(atext)"
   ]
  },
  {
   "cell_type": "code",
   "execution_count": 126,
   "id": "14f50acc",
   "metadata": {},
   "outputs": [
    {
     "data": {
      "text/plain": [
       "0.0"
      ]
     },
     "execution_count": 126,
     "metadata": {},
     "output_type": "execute_result"
    }
   ],
   "source": [
    "np.min(atext)"
   ]
  },
  {
   "cell_type": "code",
   "execution_count": 139,
   "id": "d41fdfee",
   "metadata": {},
   "outputs": [],
   "source": [
    "#txt=panda,numpy\n",
    "#import pandas as pd\n",
    "import pandas as pd\n",
    "#pd.read(_txt,if excel type csv,fwf)(filename)\n",
    "atext=pd.read_fwf('Kumasi_1983_2017_dRR_gapless.txt', names=['YEAR','MONTH','DAY','RAINFALL'])"
   ]
  },
  {
   "cell_type": "code",
   "execution_count": 140,
   "id": "da3c9395",
   "metadata": {},
   "outputs": [
    {
     "data": {
      "text/plain": [
       "YEAR        2017.0\n",
       "MONTH         12.0\n",
       "DAY           31.0\n",
       "RAINFALL      97.4\n",
       "dtype: float64"
      ]
     },
     "execution_count": 140,
     "metadata": {},
     "output_type": "execute_result"
    }
   ],
   "source": [
    "np.max(atext)\n"
   ]
  },
  {
   "cell_type": "code",
   "execution_count": 141,
   "id": "d85eb148",
   "metadata": {},
   "outputs": [
    {
     "data": {
      "text/plain": [
       "YEAR        1983.0\n",
       "MONTH          1.0\n",
       "DAY            1.0\n",
       "RAINFALL       0.0\n",
       "dtype: float64"
      ]
     },
     "execution_count": 141,
     "metadata": {},
     "output_type": "execute_result"
    }
   ],
   "source": [
    "np.min(atext)"
   ]
  },
  {
   "cell_type": "code",
   "execution_count": 145,
   "id": "a5a27b7f",
   "metadata": {},
   "outputs": [
    {
     "ename": "NameError",
     "evalue": "name 'text' is not defined",
     "output_type": "error",
     "traceback": [
      "\u001b[0;31m---------------------------------------------------------------------------\u001b[0m",
      "\u001b[0;31mNameError\u001b[0m                                 Traceback (most recent call last)",
      "\u001b[0;32m/tmp/ipykernel_4754/750330631.py\u001b[0m in \u001b[0;36m<module>\u001b[0;34m\u001b[0m\n\u001b[1;32m      6\u001b[0m \u001b[0max\u001b[0m\u001b[0;34m=\u001b[0m\u001b[0mfig\u001b[0m\u001b[0;34m.\u001b[0m\u001b[0madd_subplot\u001b[0m\u001b[0;34m(\u001b[0m\u001b[0;36m122\u001b[0m\u001b[0;34m)\u001b[0m\u001b[0;31m#1fig 2row and use row2\u001b[0m\u001b[0;34m\u001b[0m\u001b[0;34m\u001b[0m\u001b[0m\n\u001b[1;32m      7\u001b[0m \u001b[0max\u001b[0m\u001b[0;34m.\u001b[0m\u001b[0mset_title\u001b[0m\u001b[0;34m(\u001b[0m\u001b[0;34m'subplot 2'\u001b[0m\u001b[0;34m)\u001b[0m\u001b[0;34m\u001b[0m\u001b[0;34m\u001b[0m\u001b[0m\n\u001b[0;32m----> 8\u001b[0;31m \u001b[0mtext\u001b[0m\u001b[0;34m(\u001b[0m\u001b[0;36m0.5\u001b[0m\u001b[0;34m,\u001b[0m\u001b[0;36m1.0\u001b[0m\u001b[0;34m,\u001b[0m\u001b[0;34m'subplot1'\u001b[0m\u001b[0;34m)\u001b[0m\u001b[0;34m\u001b[0m\u001b[0;34m\u001b[0m\u001b[0m\n\u001b[0m",
      "\u001b[0;31mNameError\u001b[0m: name 'text' is not defined"
     ]
    },
    {
     "data": {
      "image/png": "[encoded data removed]",
      "text/plain": [
       "<Figure size 432x288 with 2 Axes>"
      ]
     },
     "metadata": {
      "needs_background": "light"
     },
     "output_type": "display_data"
    }
   ],
   "source": [
    "#sub plot\n",
    "fig=plt.figure()\n",
    "ax=fig.add_subplot(121)  #1fig 2row and use row1\n",
    "ax.set_title('subplot 1')\n",
    "\n",
    "ax=fig.add_subplot(122)#1fig 2row and use row2\n",
    "ax.set_title('subplot 2')\n",
    "text(0.5,1.0,'subplot1')\n"
   ]
  },
  {
   "cell_type": "code",
   "execution_count": 155,
   "id": "5e6191d4",
   "metadata": {},
   "outputs": [
    {
     "ename": "SyntaxError",
     "evalue": "invalid syntax (2597337345.py, line 2)",
     "output_type": "error",
     "traceback": [
      "\u001b[0;36m  File \u001b[0;32m\"/tmp/ipykernel_4754/2597337345.py\"\u001b[0;36m, line \u001b[0;32m2\u001b[0m\n\u001b[0;31m    fig,axes = plt.subplots((ncolse=2,nrows=2),figsize=(15,11),sharex=false))\u001b[0m\n\u001b[0m                                   ^\u001b[0m\n\u001b[0;31mSyntaxError\u001b[0m\u001b[0;31m:\u001b[0m invalid syntax\n"
     ]
    }
   ],
   "source": [
    "#\n",
    "fig,axes = plt.subplots((ncolse=2,nrows=2),figsize=(15,11),sharex=false))\n",
    "axes[0].set_title(\"subplot1\")\n",
    "axes[1].set_title(\"subplot2\")\n",
    "\n",
    "#plt.subplots_adjusts"
   ]
  },
  {
   "cell_type": "code",
   "execution_count": 148,
   "id": "bfc4da46",
   "metadata": {},
   "outputs": [
    {
     "data": {
      "text/plain": [
       "Text(0.5, 1.0, 'subplot')"
      ]
     },
     "execution_count": 148,
     "metadata": {},
     "output_type": "execute_result"
    },
    {
     "data": {
      "image/png": "[encoded data removed]",
      "text/plain": [
       "<Figure size 288x288 with 1 Axes>"
      ]
     },
     "metadata": {
      "needs_background": "light"
     },
     "output_type": "display_data"
    }
   ],
   "source": [
    "#single subplot\n",
    "fig,ax=plt.subplots(figsize=(4,4))\n",
    "ax.set_title(\"subplot\")"
   ]
  },
  {
   "cell_type": "code",
   "execution_count": 157,
   "id": "3e4c16a9",
   "metadata": {},
   "outputs": [],
   "source": [
    "#or scatterplot=.scatter\n",
    "#south ocillation index\n",
    "\n",
    "#spatial plot\n",
    "#\n",
    "\n",
    "#plt.savepig(name.extention)"
   ]
  },
  {
   "cell_type": "code",
   "execution_count": 177,
   "id": "627c5339",
   "metadata": {},
   "outputs": [
    {
     "ename": "SyntaxError",
     "evalue": "cannot assign to function call (2623885666.py, line 8)",
     "output_type": "error",
     "traceback": [
      "\u001b[0;36m  File \u001b[0;32m\"/tmp/ipykernel_4754/2623885666.py\"\u001b[0;36m, line \u001b[0;32m8\u001b[0m\n\u001b[0;31m    ax.plot(rain[:,0],rain[:,8]),color='blue',lw=5,ls='---',marker='*',label='Aug')\u001b[0m\n\u001b[0m    ^\u001b[0m\n\u001b[0;31mSyntaxError\u001b[0m\u001b[0;31m:\u001b[0m cannot assign to function call\n"
     ]
    }
   ],
   "source": [
    "#group work\n",
    "#import cartopy as cp\n",
    "import matplotlib as mp\n",
    "import numpy as np\n",
    "\n",
    "rain=np.genfromtxt(\"/home/ell/Desktop/Tamale_CRU_rainfall.csv\",delimiter=\",\")\n",
    "fig,ax=plt.subplots(figsize=(10,5))\n",
    "ax.plot(rain[:,0],rain[:,8]),color='blue',lw=5,ls='---',marker='*',label='Aug')\n",
    "\n",
    "#ax1 = axes[0]\n",
    "#ax1.bar(months, temp_median)\n",
    "\n",
    "#ax1.set_xlabel(\"Rain\", fontsize=15)\n",
    "#ax1.set_ylabel(\"Temperature Anomalies\", fontsize=15)\n",
    "#ax1.set_title(\"Monthly Median Temperature Anomalies\", fontsize=15)\n",
    "\n",
    "\n"
   ]
  },
  {
   "cell_type": "code",
   "execution_count": 190,
   "id": "e2dbbac8",
   "metadata": {},
   "outputs": [
    {
     "data": {
      "text/plain": [
       "Text(0.5, 22.200000000000003, 'Year')"
      ]
     },
     "execution_count": 190,
     "metadata": {},
     "output_type": "execute_result"
    },
    {
     "data": {
      "image/png": "[encoded data removed]",
      "text/plain": [
       "<Figure size 432x288 with 2 Axes>"
      ]
     },
     "metadata": {
      "needs_background": "light"
     },
     "output_type": "display_data"
    }
   ],
   "source": [
    "\n",
    "#fig,ax=plt.subplots(figsize=(10,5))\n",
    "#ax.plot(rain[:,0],rain[:,8]),color='blue',lw=5,ls='---',marker='*',label='Aug')\n",
    "fig=plt.figure()\n",
    "ax=fig.add_subplot(121) \n",
    "ax=fig.add_subplot(122) \n",
    "ax.set_ylabel(\"Temperature Anomalies [C]\", fontsize=15)\n",
    "ax.set_xlabel(\"Year\", fontsize=15)\n",
    "#ax.bar(rain)\n",
    "ax.set_title('August_rainfall')\n",
    "ax1.set_title('group_2')\n",
    "ax1.set_ylabel(\"Temperature Anomalies [C]\", fontsize=15)\n",
    "ax1.set_xlabel(\"Year\", fontsize=15)\n",
    "\n",
    "\n"
   ]
  },
  {
   "cell_type": "code",
   "execution_count": 195,
   "id": "970ed459",
   "metadata": {},
   "outputs": [
    {
     "name": "stdout",
     "output_type": "stream",
     "text": [
      "please enter pin 1234\n"
     ]
    },
    {
     "ename": "NameError",
     "evalue": "name 'true' is not defined",
     "output_type": "error",
     "traceback": [
      "\u001b[0;31m---------------------------------------------------------------------------\u001b[0m",
      "\u001b[0;31mNameError\u001b[0m                                 Traceback (most recent call last)",
      "\u001b[0;32m/tmp/ipykernel_4754/1319811600.py\u001b[0m in \u001b[0;36m<module>\u001b[0;34m\u001b[0m\n\u001b[1;32m     13\u001b[0m \u001b[0;34m\u001b[0m\u001b[0m\n\u001b[1;32m     14\u001b[0m         \u001b[0;31m#break\u001b[0m\u001b[0;34m\u001b[0m\u001b[0;34m\u001b[0m\u001b[0m\n\u001b[0;32m---> 15\u001b[0;31m \u001b[0;32mwhile\u001b[0m \u001b[0mtrue\u001b[0m\u001b[0;34m:\u001b[0m\u001b[0;34m\u001b[0m\u001b[0;34m\u001b[0m\u001b[0m\n\u001b[0m\u001b[1;32m     16\u001b[0m \u001b[0;34m\u001b[0m\u001b[0m\n\u001b[1;32m     17\u001b[0m \u001b[0;34m\u001b[0m\u001b[0m\n",
      "\u001b[0;31mNameError\u001b[0m: name 'true' is not defined"
     ]
    }
   ],
   "source": [
    "#task 3 ATM\n",
    "import random\n",
    "\n",
    "\n"
   ]
  },
  {
   "cell_type": "code",
   "execution_count": null,
   "id": "7a0fa0f9",
   "metadata": {},
   "outputs": [],
   "source": [
    "\n",
    "\n",
    "        \n",
    "        \n",
    "        \n",
    "        \n",
    "        \n",
    "        "
   ]
  },
  {
   "cell_type": "code",
   "execution_count": null,
   "id": "8e4e73ba",
   "metadata": {},
   "outputs": [
    {
     "name": "stdout",
     "output_type": "stream",
     "text": [
      "please enter your surname to continue Bright\n",
      "\n",
      "you are welcome Bright\n",
      "your pin 124\n"
     ]
    }
   ],
   "source": [
    "#try 2\n",
    "surname=input('please enter your surname to continue ')\n",
    "print('')\n",
    "print('you are welcome '+ surname)\n",
    "pin=input('your pin ')\n",
    "output='1234'\n",
    "attempts=0\n",
    "YES='yes.'\n",
    "\n",
    "\n",
    "if pin==output:\n",
    "    \n",
    "    log=input('are you sure you want to log out')\n",
    "    #print('success')\n",
    "    #l!=1:\n",
    "   # print(\"you are good to go \")\n",
    "    \n",
    "   \n",
    "    \n",
    "  \n",
    "    \n",
    "    \n",
    "    \n",
    "else:\n",
    "        \n",
    "        while pin!=output and attempts<2:\n",
    "            attempts=attempts+1\n",
    "            \n",
    "            \n",
    "            pin=input('that is incorrect,try again ')\n",
    "if pin==output and log==yes:\n",
    "    #YES=input('DO YOU WANT TO')\n",
    "        print('fghjk')\n",
    "    \n",
    "    \n",
    "        #print('success')\n",
    "         \n",
    "            \n",
    "elif attempts==2:\n",
    "    \n",
    "       \n",
    "             print('you have been blocked,kindly visit the nearest ell branch')\n",
    "            \n",
    "    \n",
    "            \n",
    "        \n",
    "    \n",
    "                     \n",
    "                         \n",
    "                     \n",
    "\n",
    "                      "
   ]
  },
  {
   "cell_type": "code",
   "execution_count": null,
   "id": "a16ad90d",
   "metadata": {},
   "outputs": [],
   "source": [
    "#try3\n",
    "import getpass\n",
    "pin=getpass.getpass('your pin ')\n",
    "output='1234'\n",
    "attempts=0\n",
    "\n",
    "if pin==output:\n",
    "    print('success')\n",
    "    \n",
    "else:\n",
    "        while pin!=output and attempts<2:\n",
    "            attempts=attempts+1\n",
    "            \n",
    "            \n",
    "            pin=getpass.getpass('that is incorrect,try again ')\n",
    "if pin==output:\n",
    "    \n",
    "    \n",
    "        print('success')\n",
    "elif attempts==2:\n",
    "    \n",
    "       \n",
    "             print('you have been blocked,kindly visit the nearest ell branch')\n",
    "            \n",
    "            "
   ]
  },
  {
   "cell_type": "code",
   "execution_count": 396,
   "id": "832738bf",
   "metadata": {},
   "outputs": [
    {
     "name": "stdout",
     "output_type": "stream",
     "text": [
      "hello ,AKWAABA\n",
      "please enter your pin 54\n"
     ]
    }
   ],
   "source": [
    "#triesssss\n",
    "print('hello ,AKWAABA')\n",
    "pin=input('please enter your pin ')\n",
    "attempts=0\n",
    "output='12345'\n",
    "if pin==output:\n",
    "    print('successfully done')\n",
    "else:\n",
    "    while attempts>2 and pin!=output:\n",
    "        pin=input('please try again ')\n",
    "        attempts=attempts+1\n",
    "if pin==output:\n",
    "    print('successfully done')\n",
    "        \n",
    "    \n",
    "        \n",
    "            \n",
    "           \n",
    "\n",
    "                 \n",
    "elif attempts==2:\n",
    "                        print('koo')\n",
    "            \n",
    "            \n",
    "            \n",
    "            "
   ]
  },
  {
   "cell_type": "code",
   "execution_count": null,
   "id": "e44960a9",
   "metadata": {},
   "outputs": [],
   "source": []
  }
 ],
 "metadata": {
  "kernelspec": {
   "display_name": "Python 3 (ipykernel)",
   "language": "python",
   "name": "python3"
  },
  "language_info": {
   "codemirror_mode": {
    "name": "ipython",
    "version": 3
   },
   "file_extension": ".py",
   "mimetype": "text/x-python",
   "name": "python",
   "nbconvert_exporter": "python",
   "pygments_lexer": "ipython3",
   "version": "3.9.7"
  }
 },
 "nbformat": 4,
 "nbformat_minor": 5
}
